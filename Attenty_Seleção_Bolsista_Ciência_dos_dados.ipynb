{
 "cells": [
  {
   "cell_type": "code",
   "execution_count": 1,
   "metadata": {
    "colab": {
     "base_uri": "https://localhost:8080/"
    },
    "id": "MBdh95rQASzh",
    "outputId": "40210c09-8293-4409-e4a1-f489ff8e4f68"
   },
   "outputs": [],
   "source": [
    "import numpy as np\n",
    "import pandas as pd\n",
    "import matplotlib.pyplot as plt\n",
    "import seaborn as sns; sns.set()\n",
    "\n",
    "sns.set_style('whitegrid')\n",
    "# from google.colab import drive\n",
    "# drive.mount('/content/drive')"
   ]
  },
  {
   "cell_type": "markdown",
   "metadata": {
    "id": "WbJVOlmOFzcv"
   },
   "source": [
    "** Nome: Dayvison Gomes de Oliveira."
   ]
  },
  {
   "cell_type": "markdown",
   "metadata": {
    "id": "1XucDFsP-W7V"
   },
   "source": [
    "**Treinando um Classificador de Produto com Redes Neurais**"
   ]
  },
  {
   "cell_type": "markdown",
   "metadata": {
    "id": "tWK4Y38m8L7h"
   },
   "source": [
    "O conjunto de dados abaixo consiste em reclamações de clientes a cerca de produtos/serviços oferecidos em uma instituição bancária. "
   ]
  },
  {
   "cell_type": "code",
   "execution_count": null,
   "metadata": {
    "colab": {
     "base_uri": "https://localhost:8080/",
     "height": 545
    },
    "id": "Y0zH0BL98IJC",
    "outputId": "c172135b-3c0e-4eeb-e942-7229ce7c239a"
   },
   "outputs": [
    {
     "data": {
      "text/html": [
       "\n",
       "  <div id=\"df-f55bb130-3ca9-47ad-8eae-eb3b2b2adeb0\">\n",
       "    <div class=\"colab-df-container\">\n",
       "      <div>\n",
       "<style scoped>\n",
       "    .dataframe tbody tr th:only-of-type {\n",
       "        vertical-align: middle;\n",
       "    }\n",
       "\n",
       "    .dataframe tbody tr th {\n",
       "        vertical-align: top;\n",
       "    }\n",
       "\n",
       "    .dataframe thead th {\n",
       "        text-align: right;\n",
       "    }\n",
       "</style>\n",
       "<table border=\"1\" class=\"dataframe\">\n",
       "  <thead>\n",
       "    <tr style=\"text-align: right;\">\n",
       "      <th></th>\n",
       "      <th>date-received</th>\n",
       "      <th>product</th>\n",
       "      <th>sub-product</th>\n",
       "      <th>issue</th>\n",
       "      <th>sub-issue</th>\n",
       "      <th>consumer-message</th>\n",
       "      <th>state</th>\n",
       "      <th>zip-code</th>\n",
       "      <th>tags</th>\n",
       "      <th>via</th>\n",
       "      <th>resolution</th>\n",
       "      <th>timely-response?</th>\n",
       "      <th>disputed?</th>\n",
       "      <th>complaint-id</th>\n",
       "    </tr>\n",
       "  </thead>\n",
       "  <tbody>\n",
       "    <tr>\n",
       "      <th>0</th>\n",
       "      <td>10/1/2016</td>\n",
       "      <td>Credit reporting</td>\n",
       "      <td>NaN</td>\n",
       "      <td>Incorrect information on credit report</td>\n",
       "      <td>Account status</td>\n",
       "      <td>I have outdated information on my credit repor...</td>\n",
       "      <td>AL</td>\n",
       "      <td>352XX</td>\n",
       "      <td>NaN</td>\n",
       "      <td>Web</td>\n",
       "      <td>Closed with explanation</td>\n",
       "      <td>Yes</td>\n",
       "      <td>No</td>\n",
       "      <td>2141773</td>\n",
       "    </tr>\n",
       "    <tr>\n",
       "      <th>1</th>\n",
       "      <td>10/17/2016</td>\n",
       "      <td>Consumer Loan</td>\n",
       "      <td>Vehicle loan</td>\n",
       "      <td>Managing the loan or lease</td>\n",
       "      <td>NaN</td>\n",
       "      <td>I purchased a new car on XXXX XXXX. The car de...</td>\n",
       "      <td>PA</td>\n",
       "      <td>177XX</td>\n",
       "      <td>Older American</td>\n",
       "      <td>Web</td>\n",
       "      <td>Closed with explanation</td>\n",
       "      <td>Yes</td>\n",
       "      <td>No</td>\n",
       "      <td>2163100</td>\n",
       "    </tr>\n",
       "    <tr>\n",
       "      <th>2</th>\n",
       "      <td>6/15/2015</td>\n",
       "      <td>Credit reporting</td>\n",
       "      <td>NaN</td>\n",
       "      <td>Credit reporting company's investigation</td>\n",
       "      <td>Inadequate help over the phone</td>\n",
       "      <td>An account on my credit report has a mistaken ...</td>\n",
       "      <td>VA</td>\n",
       "      <td>224XX</td>\n",
       "      <td>NaN</td>\n",
       "      <td>Web</td>\n",
       "      <td>Closed with explanation</td>\n",
       "      <td>Yes</td>\n",
       "      <td>No</td>\n",
       "      <td>1420702</td>\n",
       "    </tr>\n",
       "    <tr>\n",
       "      <th>3</th>\n",
       "      <td>2/3/2016</td>\n",
       "      <td>Debt collection</td>\n",
       "      <td>Other (i.e. phone, health club, etc.)</td>\n",
       "      <td>Disclosure verification of debt</td>\n",
       "      <td>Not given enough info to verify debt</td>\n",
       "      <td>This company refuses to provide me verificatio...</td>\n",
       "      <td>TX</td>\n",
       "      <td>752XX</td>\n",
       "      <td>NaN</td>\n",
       "      <td>Web</td>\n",
       "      <td>Closed with explanation</td>\n",
       "      <td>Yes</td>\n",
       "      <td>Yes</td>\n",
       "      <td>1772196</td>\n",
       "    </tr>\n",
       "    <tr>\n",
       "      <th>4</th>\n",
       "      <td>2/17/2016</td>\n",
       "      <td>Debt collection</td>\n",
       "      <td>Credit card</td>\n",
       "      <td>Improper contact or sharing of info</td>\n",
       "      <td>Talked to a third party about my debt</td>\n",
       "      <td>This complaint is in regards to Square Two Fin...</td>\n",
       "      <td>NE</td>\n",
       "      <td>693XX</td>\n",
       "      <td>NaN</td>\n",
       "      <td>Web</td>\n",
       "      <td>Closed with explanation</td>\n",
       "      <td>Yes</td>\n",
       "      <td>Yes</td>\n",
       "      <td>1790634</td>\n",
       "    </tr>\n",
       "  </tbody>\n",
       "</table>\n",
       "</div>\n",
       "      <button class=\"colab-df-convert\" onclick=\"convertToInteractive('df-f55bb130-3ca9-47ad-8eae-eb3b2b2adeb0')\"\n",
       "              title=\"Convert this dataframe to an interactive table.\"\n",
       "              style=\"display:none;\">\n",
       "        \n",
       "  <svg xmlns=\"http://www.w3.org/2000/svg\" height=\"24px\"viewBox=\"0 0 24 24\"\n",
       "       width=\"24px\">\n",
       "    <path d=\"M0 0h24v24H0V0z\" fill=\"none\"/>\n",
       "    <path d=\"M18.56 5.44l.94 2.06.94-2.06 2.06-.94-2.06-.94-.94-2.06-.94 2.06-2.06.94zm-11 1L8.5 8.5l.94-2.06 2.06-.94-2.06-.94L8.5 2.5l-.94 2.06-2.06.94zm10 10l.94 2.06.94-2.06 2.06-.94-2.06-.94-.94-2.06-.94 2.06-2.06.94z\"/><path d=\"M17.41 7.96l-1.37-1.37c-.4-.4-.92-.59-1.43-.59-.52 0-1.04.2-1.43.59L10.3 9.45l-7.72 7.72c-.78.78-.78 2.05 0 2.83L4 21.41c.39.39.9.59 1.41.59.51 0 1.02-.2 1.41-.59l7.78-7.78 2.81-2.81c.8-.78.8-2.07 0-2.86zM5.41 20L4 18.59l7.72-7.72 1.47 1.35L5.41 20z\"/>\n",
       "  </svg>\n",
       "      </button>\n",
       "      \n",
       "  <style>\n",
       "    .colab-df-container {\n",
       "      display:flex;\n",
       "      flex-wrap:wrap;\n",
       "      gap: 12px;\n",
       "    }\n",
       "\n",
       "    .colab-df-convert {\n",
       "      background-color: #E8F0FE;\n",
       "      border: none;\n",
       "      border-radius: 50%;\n",
       "      cursor: pointer;\n",
       "      display: none;\n",
       "      fill: #1967D2;\n",
       "      height: 32px;\n",
       "      padding: 0 0 0 0;\n",
       "      width: 32px;\n",
       "    }\n",
       "\n",
       "    .colab-df-convert:hover {\n",
       "      background-color: #E2EBFA;\n",
       "      box-shadow: 0px 1px 2px rgba(60, 64, 67, 0.3), 0px 1px 3px 1px rgba(60, 64, 67, 0.15);\n",
       "      fill: #174EA6;\n",
       "    }\n",
       "\n",
       "    [theme=dark] .colab-df-convert {\n",
       "      background-color: #3B4455;\n",
       "      fill: #D2E3FC;\n",
       "    }\n",
       "\n",
       "    [theme=dark] .colab-df-convert:hover {\n",
       "      background-color: #434B5C;\n",
       "      box-shadow: 0px 1px 3px 1px rgba(0, 0, 0, 0.15);\n",
       "      filter: drop-shadow(0px 1px 2px rgba(0, 0, 0, 0.3));\n",
       "      fill: #FFFFFF;\n",
       "    }\n",
       "  </style>\n",
       "\n",
       "      <script>\n",
       "        const buttonEl =\n",
       "          document.querySelector('#df-f55bb130-3ca9-47ad-8eae-eb3b2b2adeb0 button.colab-df-convert');\n",
       "        buttonEl.style.display =\n",
       "          google.colab.kernel.accessAllowed ? 'block' : 'none';\n",
       "\n",
       "        async function convertToInteractive(key) {\n",
       "          const element = document.querySelector('#df-f55bb130-3ca9-47ad-8eae-eb3b2b2adeb0');\n",
       "          const dataTable =\n",
       "            await google.colab.kernel.invokeFunction('convertToInteractive',\n",
       "                                                     [key], {});\n",
       "          if (!dataTable) return;\n",
       "\n",
       "          const docLinkHtml = 'Like what you see? Visit the ' +\n",
       "            '<a target=\"_blank\" href=https://colab.research.google.com/notebooks/data_table.ipynb>data table notebook</a>'\n",
       "            + ' to learn more about interactive tables.';\n",
       "          element.innerHTML = '';\n",
       "          dataTable['output_type'] = 'display_data';\n",
       "          await google.colab.output.renderOutput(dataTable, element);\n",
       "          const docLink = document.createElement('div');\n",
       "          docLink.innerHTML = docLinkHtml;\n",
       "          element.appendChild(docLink);\n",
       "        }\n",
       "      </script>\n",
       "    </div>\n",
       "  </div>\n",
       "  "
      ],
      "text/plain": [
       "  date-received           product                            sub-product  \\\n",
       "0     10/1/2016  Credit reporting                                    NaN   \n",
       "1    10/17/2016     Consumer Loan                           Vehicle loan   \n",
       "2     6/15/2015  Credit reporting                                    NaN   \n",
       "3      2/3/2016   Debt collection  Other (i.e. phone, health club, etc.)   \n",
       "4     2/17/2016   Debt collection                            Credit card   \n",
       "\n",
       "                                      issue  \\\n",
       "0    Incorrect information on credit report   \n",
       "1                Managing the loan or lease   \n",
       "2  Credit reporting company's investigation   \n",
       "3           Disclosure verification of debt   \n",
       "4       Improper contact or sharing of info   \n",
       "\n",
       "                               sub-issue  \\\n",
       "0                         Account status   \n",
       "1                                    NaN   \n",
       "2         Inadequate help over the phone   \n",
       "3   Not given enough info to verify debt   \n",
       "4  Talked to a third party about my debt   \n",
       "\n",
       "                                    consumer-message state zip-code  \\\n",
       "0  I have outdated information on my credit repor...    AL    352XX   \n",
       "1  I purchased a new car on XXXX XXXX. The car de...    PA    177XX   \n",
       "2  An account on my credit report has a mistaken ...    VA    224XX   \n",
       "3  This company refuses to provide me verificatio...    TX    752XX   \n",
       "4  This complaint is in regards to Square Two Fin...    NE    693XX   \n",
       "\n",
       "             tags  via               resolution timely-response? disputed?  \\\n",
       "0             NaN  Web  Closed with explanation              Yes        No   \n",
       "1  Older American  Web  Closed with explanation              Yes        No   \n",
       "2             NaN  Web  Closed with explanation              Yes        No   \n",
       "3             NaN  Web  Closed with explanation              Yes       Yes   \n",
       "4             NaN  Web  Closed with explanation              Yes       Yes   \n",
       "\n",
       "   complaint-id  \n",
       "0       2141773  \n",
       "1       2163100  \n",
       "2       1420702  \n",
       "3       1772196  \n",
       "4       1790634  "
      ]
     },
     "metadata": {},
     "output_type": "display_data"
    }
   ],
   "source": [
    "d = pd.read_csv('/content/drive/MyDrive/Attenty/Bolsistas/Tarefa Bolsistas - Ciência dos dados/Gabarito/customer-issues.csv')\n",
    "display(d.head())"
   ]
  },
  {
   "cell_type": "markdown",
   "metadata": {
    "id": "0veELy-f8iks"
   },
   "source": [
    "Exibindo as quatro primeiras mensagens"
   ]
  },
  {
   "cell_type": "code",
   "execution_count": null,
   "metadata": {
    "colab": {
     "base_uri": "https://localhost:8080/"
    },
    "id": "ASIw5UKT8q2y",
    "outputId": "82a05d6e-8c9a-4e1a-df15-5d4e4480dc03"
   },
   "outputs": [
    {
     "name": "stdout",
     "output_type": "stream",
     "text": [
      "I have outdated information on my credit report that I have previously disputed that has yet to be removed this information is more then seven years old and does not meet credit reporting requirements\n",
      "\n",
      "I purchased a new car on XXXX XXXX. The car dealer called Citizens Bank to get a 10 day payoff on my loan, good till XXXX XXXX. The dealer sent the check the next day. When I balanced my checkbook on XXXX XXXX. I noticed that Citizens bank had taken the automatic payment out of my checking account at XXXX XXXX XXXX Bank. I called Citizens and they stated that they did not close the loan until XXXX XXXX. ( stating that they did not receive the check until XXXX. XXXX. ). I told them that I did not believe that the check took that long to arrive. XXXX told me a check was issued to me for the amount overpaid, they deducted additional interest. Today ( XXXX XXXX, ) I called Citizens Bank again and talked to a supervisor named XXXX, because on XXXX XXXX. I received a letter that the loan had been paid in full ( dated XXXX, XXXX ) but no refund check was included. XXXX stated that they hold any over payment for 10 business days after the loan was satisfied and that my check would be mailed out on Wed. the XX/XX/XXXX.. I questioned her about the delay in posting the dealer payment and she first stated that sometimes it takes 3 or 4 business days to post, then she said they did not receive the check till XXXX XXXX I again told her that I did not believe this and asked where is my money. She then stated that they hold the over payment for 10 business days. I asked her why, and she simply said that is their policy. I asked her if I would receive interest on my money and she stated no. I believe that Citizens bank is deliberately delaying the posting of payment and the return of consumer 's money to make additional interest for the bank. If this is not illegal it should be, it does hurt the consumer and is not ethical. My amount of money lost is minimal but if they are doing this on thousands of car loans a month, then the additional interest earned for them could be staggering. I still have another car loan from Citizens Bank and I am afraid when I trade that car in another year I will run into the same problem again.\n",
      "\n",
      "An account on my credit report has a mistaken date. I mailed in a debt validation letter to allow XXXX to correct the information. I received a letter in the mail, stating that Experian received my correspondence and found it to be \" suspicious '' and that \" I did n't write it ''. Experian 's letter is worded to imply that I am incapable of writing my own letter. I was deeply offended by this implication. \n",
      "I called Experian to figure out why my letter was so suspicious. I spoke to a representative who was incredibly unhelpful, She did not effectively answer any questions I asked of her, and she kept ignoring what I was saying regarding the offensive letter and my dispute process. I feel the representative did what she wanted to do, and I am not satisfied. It is STILL not clear to me why I received this letter. I typed this letter, I signed this letter, and I paid to mail this letter, yet Experian willfully disregarded my lawful request. \n",
      "I am disgusted with this entire situation, and I would like for my dispute to be handled appropriately, and I would like for an Experian representative to contact me and give me a real explanation for this letter.\n",
      "\n",
      "This company refuses to provide me verification and validation of debt per my right under the FDCPA. I do not believe this debt is mine.\n",
      "\n",
      "This complaint is in regards to Square Two Financial. Refer to CFPB case number XXXX regarding CACH, L. L. C. Square Two Financial has utilized my entire social security number to include date of birth on the pfd document listed with this complaint. The initial complaint was with CACH, L. L. C. and not Square Two Financial. This is in breach of the following : 1. Identity Theft Assumption and Deterrence Act of XXXX 2. Privacy Act of XXXX XXXX. Social Security XXXX 4. XXXX Privacy Act-which carries a maximum XXXX fine for each calendar cap year. \n",
      "5. Breach of Title XXXX, XXXX XXXX XXXX XXXX under XXXX and XXXX The solution is to have CACH, L.L.C handle this correction and not Square Two Financial. Two Square Financial submitted the XXXX XXXX XXXX with their subscriber name on the form listed on CFPB case # XXXX they are rendered liable in this matter. In addition, there is an account number associated with this Universal Data Form and they could use that account number instead of a SSN and DOB which is against XXXX XXXX XXXX This is also includes removal of the XXXX XXXX Form off of CFPB case # XXXX listed as a pdf document attached to this case number. Square Two Financial was contacted at XXXXXXXXXXXX as of XXXX/XXXX/XXXX by e-mail in regards to this matter. In addition, all of my information is not for sale and distribution via fax, fax-scanned, copied, stored in a retrieval system, recorded, transmitted digitally or electronically without my expressed written consent. This information is protected under copyright and publishing laws of XXXX XXXX and XXXX XXXX. This information is protected under the XXXX XXXX XXXX XXXX XXXX under the freedom of speech under XXXX XXXX XXXX to include the Uniform Commercial Codes XXXX and XXXX. These rights are reserved world wide.\n"
     ]
    }
   ],
   "source": [
    "print(*d.loc[:4, 'consumer-message'], sep='\\n\\n')"
   ]
  },
  {
   "cell_type": "markdown",
   "metadata": {
    "id": "cod4to1X_FL0"
   },
   "source": [
    "Abaixo temos o gráfico de frequências de produto sobre as conversas. Observa-se que este é um problema extremamente desbalanceado. Há, entretanto, amostras suficientes para a modelagem de um classificador de produtos levando em consideração o diálogo do cliente. **Para isso, selecione as seis classes de produto mais frequentes do dataset e descarte o restante das amostras**. Em seguida, **treine uma rede neural de sua escolha** para classificar produtos baseado nos comentários dos clientes. "
   ]
  },
  {
   "cell_type": "code",
   "execution_count": null,
   "metadata": {
    "id": "nW_PWDUm_HAr"
   },
   "outputs": [],
   "source": [
    "def frequencies(dataset, column):\n",
    "    labels, counts = np.unique(dataset[column], return_counts=True)\n",
    "    p = np.argsort(counts)[::-1]\n",
    "    labels, counts = labels[p], counts[p]\n",
    "    \n",
    "    (sns\n",
    "     .barplot([l[:40] for l in labels], counts)\n",
    "     .set_title(f'Occurrences for The {len(labels)} Classes in {column}'))\n",
    "    plt.xticks(rotation=90)\n",
    "    \n",
    "    return labels, counts"
   ]
  },
  {
   "cell_type": "code",
   "execution_count": null,
   "metadata": {
    "colab": {
     "base_uri": "https://localhost:8080/",
     "height": 553
    },
    "id": "r7fM1Pnd_Kw1",
    "outputId": "d172f8bf-8eab-48cf-c79b-c6f95f9be148"
   },
   "outputs": [
    {
     "name": "stderr",
     "output_type": "stream",
     "text": [
      "/usr/local/lib/python3.8/dist-packages/seaborn/_decorators.py:36: FutureWarning: Pass the following variables as keyword args: x, y. From version 0.12, the only valid positional argument will be `data`, and passing other arguments without an explicit keyword will result in an error or misinterpretation.\n",
      "  warnings.warn(\n"
     ]
    },
    {
     "data": {
      "image/png": "[encoded data removed]",
      "text/plain": [
       "<Figure size 432x288 with 1 Axes>"
      ]
     },
     "metadata": {},
     "output_type": "display_data"
    }
   ],
   "source": [
    "labels, counamts = frequencies(d, 'product')"
   ]
  },
  {
   "cell_type": "markdown",
   "metadata": {
    "id": "8bPsAvIA-uAA"
   },
   "source": [
    "**Observações**: \n",
    "*   Para esta tarefa você deve utilizar o Pytorch.\n",
    "*   Reporte todas as escolhas e observações que achar necessárias neste notebook. Todos os comentários e escolhas de projeto serão levadas em consideração no momento da seleção.\n",
    "* As mensagens contidas no conjunto de dados possuem uma relação temporal por isso é importante realizar a separação dos sub-conjuntos de treino/teste respeitando esta relação, de forma a garantir que o modelo não seja treinado sobre amostras no futuro e experimentado sobre o passado.\n",
    "* Só serão aceitas respostas entregues neste notebook.\n",
    "* Entregue o notebook com o modelo treinado.\n",
    "* Todo o pré-processamento dos dados e processo de separação é da escolha do cientista de dados. \n",
    "* Você pode treinar mais de um modelo e comparar resultados também, fique a vontade para escolher as melhores estratégias.\n",
    "* Lembre de computar a acurácia balanceada e a matriz de confusão sobre o conjunto de teste."
   ]
  },
  {
   "cell_type": "code",
   "execution_count": 2,
   "metadata": {
    "id": "XtNTAxybpYhO"
   },
   "outputs": [],
   "source": [
    "# df = pd.read_csv('/content/drive/MyDrive/customer-issues.csv')\n",
    "df = pd.read_csv('customer-issues.csv')"
   ]
  },
  {
   "cell_type": "code",
   "execution_count": 3,
   "metadata": {
    "colab": {
     "base_uri": "https://localhost:8080/",
     "height": 354
    },
    "id": "oynTksakpYhO",
    "outputId": "7aa7a12b-7429-4727-b8d6-00c7ca4f5738"
   },
   "outputs": [
    {
     "data": {
      "text/html": [
       "<div>\n",
       "<style scoped>\n",
       "    .dataframe tbody tr th:only-of-type {\n",
       "        vertical-align: middle;\n",
       "    }\n",
       "\n",
       "    .dataframe tbody tr th {\n",
       "        vertical-align: top;\n",
       "    }\n",
       "\n",
       "    .dataframe thead th {\n",
       "        text-align: right;\n",
       "    }\n",
       "</style>\n",
       "<table border=\"1\" class=\"dataframe\">\n",
       "  <thead>\n",
       "    <tr style=\"text-align: right;\">\n",
       "      <th></th>\n",
       "      <th>date-received</th>\n",
       "      <th>product</th>\n",
       "      <th>sub-product</th>\n",
       "      <th>issue</th>\n",
       "      <th>sub-issue</th>\n",
       "      <th>consumer-message</th>\n",
       "      <th>state</th>\n",
       "      <th>zip-code</th>\n",
       "      <th>tags</th>\n",
       "      <th>via</th>\n",
       "      <th>resolution</th>\n",
       "      <th>timely-response?</th>\n",
       "      <th>disputed?</th>\n",
       "      <th>complaint-id</th>\n",
       "    </tr>\n",
       "  </thead>\n",
       "  <tbody>\n",
       "    <tr>\n",
       "      <th>0</th>\n",
       "      <td>10/1/2016</td>\n",
       "      <td>Credit reporting</td>\n",
       "      <td>NaN</td>\n",
       "      <td>Incorrect information on credit report</td>\n",
       "      <td>Account status</td>\n",
       "      <td>I have outdated information on my credit repor...</td>\n",
       "      <td>AL</td>\n",
       "      <td>352XX</td>\n",
       "      <td>NaN</td>\n",
       "      <td>Web</td>\n",
       "      <td>Closed with explanation</td>\n",
       "      <td>Yes</td>\n",
       "      <td>No</td>\n",
       "      <td>2141773</td>\n",
       "    </tr>\n",
       "    <tr>\n",
       "      <th>1</th>\n",
       "      <td>10/17/2016</td>\n",
       "      <td>Consumer Loan</td>\n",
       "      <td>Vehicle loan</td>\n",
       "      <td>Managing the loan or lease</td>\n",
       "      <td>NaN</td>\n",
       "      <td>I purchased a new car on XXXX XXXX. The car de...</td>\n",
       "      <td>PA</td>\n",
       "      <td>177XX</td>\n",
       "      <td>Older American</td>\n",
       "      <td>Web</td>\n",
       "      <td>Closed with explanation</td>\n",
       "      <td>Yes</td>\n",
       "      <td>No</td>\n",
       "      <td>2163100</td>\n",
       "    </tr>\n",
       "    <tr>\n",
       "      <th>2</th>\n",
       "      <td>6/15/2015</td>\n",
       "      <td>Credit reporting</td>\n",
       "      <td>NaN</td>\n",
       "      <td>Credit reporting company's investigation</td>\n",
       "      <td>Inadequate help over the phone</td>\n",
       "      <td>An account on my credit report has a mistaken ...</td>\n",
       "      <td>VA</td>\n",
       "      <td>224XX</td>\n",
       "      <td>NaN</td>\n",
       "      <td>Web</td>\n",
       "      <td>Closed with explanation</td>\n",
       "      <td>Yes</td>\n",
       "      <td>No</td>\n",
       "      <td>1420702</td>\n",
       "    </tr>\n",
       "    <tr>\n",
       "      <th>3</th>\n",
       "      <td>2/3/2016</td>\n",
       "      <td>Debt collection</td>\n",
       "      <td>Other (i.e. phone, health club, etc.)</td>\n",
       "      <td>Disclosure verification of debt</td>\n",
       "      <td>Not given enough info to verify debt</td>\n",
       "      <td>This company refuses to provide me verificatio...</td>\n",
       "      <td>TX</td>\n",
       "      <td>752XX</td>\n",
       "      <td>NaN</td>\n",
       "      <td>Web</td>\n",
       "      <td>Closed with explanation</td>\n",
       "      <td>Yes</td>\n",
       "      <td>Yes</td>\n",
       "      <td>1772196</td>\n",
       "    </tr>\n",
       "    <tr>\n",
       "      <th>4</th>\n",
       "      <td>2/17/2016</td>\n",
       "      <td>Debt collection</td>\n",
       "      <td>Credit card</td>\n",
       "      <td>Improper contact or sharing of info</td>\n",
       "      <td>Talked to a third party about my debt</td>\n",
       "      <td>This complaint is in regards to Square Two Fin...</td>\n",
       "      <td>NE</td>\n",
       "      <td>693XX</td>\n",
       "      <td>NaN</td>\n",
       "      <td>Web</td>\n",
       "      <td>Closed with explanation</td>\n",
       "      <td>Yes</td>\n",
       "      <td>Yes</td>\n",
       "      <td>1790634</td>\n",
       "    </tr>\n",
       "  </tbody>\n",
       "</table>\n",
       "</div>"
      ],
      "text/plain": [
       "  date-received           product                            sub-product  \\\n",
       "0     10/1/2016  Credit reporting                                    NaN   \n",
       "1    10/17/2016     Consumer Loan                           Vehicle loan   \n",
       "2     6/15/2015  Credit reporting                                    NaN   \n",
       "3      2/3/2016   Debt collection  Other (i.e. phone, health club, etc.)   \n",
       "4     2/17/2016   Debt collection                            Credit card   \n",
       "\n",
       "                                      issue  \\\n",
       "0    Incorrect information on credit report   \n",
       "1                Managing the loan or lease   \n",
       "2  Credit reporting company's investigation   \n",
       "3           Disclosure verification of debt   \n",
       "4       Improper contact or sharing of info   \n",
       "\n",
       "                               sub-issue  \\\n",
       "0                         Account status   \n",
       "1                                    NaN   \n",
       "2         Inadequate help over the phone   \n",
       "3   Not given enough info to verify debt   \n",
       "4  Talked to a third party about my debt   \n",
       "\n",
       "                                    consumer-message state zip-code  \\\n",
       "0  I have outdated information on my credit repor...    AL    352XX   \n",
       "1  I purchased a new car on XXXX XXXX. The car de...    PA    177XX   \n",
       "2  An account on my credit report has a mistaken ...    VA    224XX   \n",
       "3  This company refuses to provide me verificatio...    TX    752XX   \n",
       "4  This complaint is in regards to Square Two Fin...    NE    693XX   \n",
       "\n",
       "             tags  via               resolution timely-response? disputed?  \\\n",
       "0             NaN  Web  Closed with explanation              Yes        No   \n",
       "1  Older American  Web  Closed with explanation              Yes        No   \n",
       "2             NaN  Web  Closed with explanation              Yes        No   \n",
       "3             NaN  Web  Closed with explanation              Yes       Yes   \n",
       "4             NaN  Web  Closed with explanation              Yes       Yes   \n",
       "\n",
       "   complaint-id  \n",
       "0       2141773  \n",
       "1       2163100  \n",
       "2       1420702  \n",
       "3       1772196  \n",
       "4       1790634  "
      ]
     },
     "execution_count": 3,
     "metadata": {},
     "output_type": "execute_result"
    }
   ],
   "source": [
    "df.head()"
   ]
  },
  {
   "cell_type": "code",
   "execution_count": 4,
   "metadata": {
    "colab": {
     "base_uri": "https://localhost:8080/"
    },
    "id": "ddqpTR4CpYhO",
    "outputId": "bac2aee4-0af6-47ed-e522-066eb45126f5"
   },
   "outputs": [
    {
     "name": "stdout",
     "output_type": "stream",
     "text": [
      "<class 'pandas.core.frame.DataFrame'>\n",
      "RangeIndex: 199970 entries, 0 to 199969\n",
      "Data columns (total 14 columns):\n",
      " #   Column            Non-Null Count   Dtype \n",
      "---  ------            --------------   ----- \n",
      " 0   date-received     199970 non-null  object\n",
      " 1   product           199970 non-null  object\n",
      " 2   sub-product       147788 non-null  object\n",
      " 3   issue             199970 non-null  object\n",
      " 4   sub-issue         113532 non-null  object\n",
      " 5   consumer-message  199970 non-null  object\n",
      " 6   state             199407 non-null  object\n",
      " 7   zip-code          199389 non-null  object\n",
      " 8   tags              33446 non-null   object\n",
      " 9   via               199970 non-null  object\n",
      " 10  resolution        199970 non-null  object\n",
      " 11  timely-response?  199970 non-null  object\n",
      " 12  disputed?         164121 non-null  object\n",
      " 13  complaint-id      199970 non-null  int64 \n",
      "dtypes: int64(1), object(13)\n",
      "memory usage: 21.4+ MB\n"
     ]
    }
   ],
   "source": [
    "df.info()"
   ]
  },
  {
   "cell_type": "markdown",
   "metadata": {},
   "source": [
    "Pegando somente as colunas de interesse"
   ]
  },
  {
   "cell_type": "code",
   "execution_count": 5,
   "metadata": {
    "id": "inflBW9SpYhO"
   },
   "outputs": [],
   "source": [
    "df_ = df[['consumer-message','product','date-received']]"
   ]
  },
  {
   "cell_type": "code",
   "execution_count": 6,
   "metadata": {
    "colab": {
     "base_uri": "https://localhost:8080/",
     "height": 423
    },
    "id": "6ipcCHYNpYhO",
    "outputId": "ef1cbdec-4b5c-4d42-a013-001a28a81f62"
   },
   "outputs": [
    {
     "data": {
      "text/html": [
       "<div>\n",
       "<style scoped>\n",
       "    .dataframe tbody tr th:only-of-type {\n",
       "        vertical-align: middle;\n",
       "    }\n",
       "\n",
       "    .dataframe tbody tr th {\n",
       "        vertical-align: top;\n",
       "    }\n",
       "\n",
       "    .dataframe thead th {\n",
       "        text-align: right;\n",
       "    }\n",
       "</style>\n",
       "<table border=\"1\" class=\"dataframe\">\n",
       "  <thead>\n",
       "    <tr style=\"text-align: right;\">\n",
       "      <th></th>\n",
       "      <th>consumer-message</th>\n",
       "      <th>product</th>\n",
       "      <th>date-received</th>\n",
       "    </tr>\n",
       "  </thead>\n",
       "  <tbody>\n",
       "    <tr>\n",
       "      <th>0</th>\n",
       "      <td>I have outdated information on my credit repor...</td>\n",
       "      <td>Credit reporting</td>\n",
       "      <td>10/1/2016</td>\n",
       "    </tr>\n",
       "    <tr>\n",
       "      <th>1</th>\n",
       "      <td>I purchased a new car on XXXX XXXX. The car de...</td>\n",
       "      <td>Consumer Loan</td>\n",
       "      <td>10/17/2016</td>\n",
       "    </tr>\n",
       "    <tr>\n",
       "      <th>2</th>\n",
       "      <td>An account on my credit report has a mistaken ...</td>\n",
       "      <td>Credit reporting</td>\n",
       "      <td>6/15/2015</td>\n",
       "    </tr>\n",
       "    <tr>\n",
       "      <th>3</th>\n",
       "      <td>This company refuses to provide me verificatio...</td>\n",
       "      <td>Debt collection</td>\n",
       "      <td>2/3/2016</td>\n",
       "    </tr>\n",
       "    <tr>\n",
       "      <th>4</th>\n",
       "      <td>This complaint is in regards to Square Two Fin...</td>\n",
       "      <td>Debt collection</td>\n",
       "      <td>2/17/2016</td>\n",
       "    </tr>\n",
       "    <tr>\n",
       "      <th>...</th>\n",
       "      <td>...</td>\n",
       "      <td>...</td>\n",
       "      <td>...</td>\n",
       "    </tr>\n",
       "    <tr>\n",
       "      <th>199965</th>\n",
       "      <td>Our son was taken to XXXX XXXX XXXX XXXX XXXX ...</td>\n",
       "      <td>Debt collection</td>\n",
       "      <td>11/9/2016</td>\n",
       "    </tr>\n",
       "    <tr>\n",
       "      <th>199966</th>\n",
       "      <td>On XXXX/XXXX/13, without my authorization, Ban...</td>\n",
       "      <td>Bank account or service</td>\n",
       "      <td>1/22/2016</td>\n",
       "    </tr>\n",
       "    <tr>\n",
       "      <th>199967</th>\n",
       "      <td>I had an account with XXXX in XX/XX/XXXX this ...</td>\n",
       "      <td>Debt collection</td>\n",
       "      <td>2/7/2017</td>\n",
       "    </tr>\n",
       "    <tr>\n",
       "      <th>199968</th>\n",
       "      <td>I was contacted on XX/XX/XXXX email by XXXX fr...</td>\n",
       "      <td>Mortgage</td>\n",
       "      <td>1/4/2017</td>\n",
       "    </tr>\n",
       "    <tr>\n",
       "      <th>199969</th>\n",
       "      <td>I had a debit that was included in my chapter ...</td>\n",
       "      <td>Debt collection</td>\n",
       "      <td>8/19/2016</td>\n",
       "    </tr>\n",
       "  </tbody>\n",
       "</table>\n",
       "<p>199970 rows × 3 columns</p>\n",
       "</div>"
      ],
      "text/plain": [
       "                                         consumer-message  \\\n",
       "0       I have outdated information on my credit repor...   \n",
       "1       I purchased a new car on XXXX XXXX. The car de...   \n",
       "2       An account on my credit report has a mistaken ...   \n",
       "3       This company refuses to provide me verificatio...   \n",
       "4       This complaint is in regards to Square Two Fin...   \n",
       "...                                                   ...   \n",
       "199965  Our son was taken to XXXX XXXX XXXX XXXX XXXX ...   \n",
       "199966  On XXXX/XXXX/13, without my authorization, Ban...   \n",
       "199967  I had an account with XXXX in XX/XX/XXXX this ...   \n",
       "199968  I was contacted on XX/XX/XXXX email by XXXX fr...   \n",
       "199969  I had a debit that was included in my chapter ...   \n",
       "\n",
       "                        product date-received  \n",
       "0              Credit reporting     10/1/2016  \n",
       "1                 Consumer Loan    10/17/2016  \n",
       "2              Credit reporting     6/15/2015  \n",
       "3               Debt collection      2/3/2016  \n",
       "4               Debt collection     2/17/2016  \n",
       "...                         ...           ...  \n",
       "199965          Debt collection     11/9/2016  \n",
       "199966  Bank account or service     1/22/2016  \n",
       "199967          Debt collection      2/7/2017  \n",
       "199968                 Mortgage      1/4/2017  \n",
       "199969          Debt collection     8/19/2016  \n",
       "\n",
       "[199970 rows x 3 columns]"
      ]
     },
     "execution_count": 6,
     "metadata": {},
     "output_type": "execute_result"
    }
   ],
   "source": [
    "df_"
   ]
  },
  {
   "cell_type": "code",
   "execution_count": 7,
   "metadata": {
    "id": "RI9U9E10pYhP"
   },
   "outputs": [],
   "source": [
    "labels, counts = np.unique(df_['product'], return_counts=True)\n",
    "p = np.argsort(counts)[::-1]\n",
    "labels, counts = labels[p], counts[p]"
   ]
  },
  {
   "cell_type": "code",
   "execution_count": 8,
   "metadata": {
    "id": "y9QU5MdapYhP"
   },
   "outputs": [],
   "source": [
    "labels_six = labels[:6]"
   ]
  },
  {
   "cell_type": "code",
   "execution_count": 9,
   "metadata": {
    "colab": {
     "base_uri": "https://localhost:8080/"
    },
    "id": "bvheLB8LpYhP",
    "outputId": "b7c5786c-df26-48d6-aba3-3f60867aaec2"
   },
   "outputs": [
    {
     "data": {
      "text/plain": [
       "array(['Debt collection', 'Mortgage', 'Credit reporting', 'Credit card',\n",
       "       'Bank account or service',\n",
       "       'Credit reporting, credit repair services, or other personal consumer reports'],\n",
       "      dtype=object)"
      ]
     },
     "execution_count": 9,
     "metadata": {},
     "output_type": "execute_result"
    }
   ],
   "source": [
    "labels_six"
   ]
  },
  {
   "cell_type": "markdown",
   "metadata": {},
   "source": [
    "Filtrando para as 6 maiores classes"
   ]
  },
  {
   "cell_type": "code",
   "execution_count": 10,
   "metadata": {
    "id": "4HTxIN7WpYhP"
   },
   "outputs": [],
   "source": [
    "new_df = df_[df_['product'].isin(labels_six)]"
   ]
  },
  {
   "cell_type": "code",
   "execution_count": 11,
   "metadata": {
    "colab": {
     "base_uri": "https://localhost:8080/"
    },
    "id": "_BubMTeRpYhP",
    "outputId": "ff0d5269-e132-492c-dd6a-846a3a5f0fd5"
   },
   "outputs": [
    {
     "data": {
      "text/plain": [
       "(6,)"
      ]
     },
     "execution_count": 11,
     "metadata": {},
     "output_type": "execute_result"
    }
   ],
   "source": [
    "np.unique(new_df['product'], return_counts=True)[0].shape"
   ]
  },
  {
   "cell_type": "code",
   "execution_count": 12,
   "metadata": {
    "colab": {
     "base_uri": "https://localhost:8080/",
     "height": 423
    },
    "id": "jZFDUtH-pYhP",
    "outputId": "d872e359-b94f-4eff-a49d-7c1f14fb9d2d"
   },
   "outputs": [
    {
     "data": {
      "text/html": [
       "<div>\n",
       "<style scoped>\n",
       "    .dataframe tbody tr th:only-of-type {\n",
       "        vertical-align: middle;\n",
       "    }\n",
       "\n",
       "    .dataframe tbody tr th {\n",
       "        vertical-align: top;\n",
       "    }\n",
       "\n",
       "    .dataframe thead th {\n",
       "        text-align: right;\n",
       "    }\n",
       "</style>\n",
       "<table border=\"1\" class=\"dataframe\">\n",
       "  <thead>\n",
       "    <tr style=\"text-align: right;\">\n",
       "      <th></th>\n",
       "      <th>consumer-message</th>\n",
       "      <th>product</th>\n",
       "      <th>date-received</th>\n",
       "    </tr>\n",
       "  </thead>\n",
       "  <tbody>\n",
       "    <tr>\n",
       "      <th>0</th>\n",
       "      <td>I have outdated information on my credit repor...</td>\n",
       "      <td>Credit reporting</td>\n",
       "      <td>10/1/2016</td>\n",
       "    </tr>\n",
       "    <tr>\n",
       "      <th>2</th>\n",
       "      <td>An account on my credit report has a mistaken ...</td>\n",
       "      <td>Credit reporting</td>\n",
       "      <td>6/15/2015</td>\n",
       "    </tr>\n",
       "    <tr>\n",
       "      <th>3</th>\n",
       "      <td>This company refuses to provide me verificatio...</td>\n",
       "      <td>Debt collection</td>\n",
       "      <td>2/3/2016</td>\n",
       "    </tr>\n",
       "    <tr>\n",
       "      <th>4</th>\n",
       "      <td>This complaint is in regards to Square Two Fin...</td>\n",
       "      <td>Debt collection</td>\n",
       "      <td>2/17/2016</td>\n",
       "    </tr>\n",
       "    <tr>\n",
       "      <th>5</th>\n",
       "      <td>Started the refinance of home mortgage process...</td>\n",
       "      <td>Mortgage</td>\n",
       "      <td>11/18/2016</td>\n",
       "    </tr>\n",
       "    <tr>\n",
       "      <th>...</th>\n",
       "      <td>...</td>\n",
       "      <td>...</td>\n",
       "      <td>...</td>\n",
       "    </tr>\n",
       "    <tr>\n",
       "      <th>199965</th>\n",
       "      <td>Our son was taken to XXXX XXXX XXXX XXXX XXXX ...</td>\n",
       "      <td>Debt collection</td>\n",
       "      <td>11/9/2016</td>\n",
       "    </tr>\n",
       "    <tr>\n",
       "      <th>199966</th>\n",
       "      <td>On XXXX/XXXX/13, without my authorization, Ban...</td>\n",
       "      <td>Bank account or service</td>\n",
       "      <td>1/22/2016</td>\n",
       "    </tr>\n",
       "    <tr>\n",
       "      <th>199967</th>\n",
       "      <td>I had an account with XXXX in XX/XX/XXXX this ...</td>\n",
       "      <td>Debt collection</td>\n",
       "      <td>2/7/2017</td>\n",
       "    </tr>\n",
       "    <tr>\n",
       "      <th>199968</th>\n",
       "      <td>I was contacted on XX/XX/XXXX email by XXXX fr...</td>\n",
       "      <td>Mortgage</td>\n",
       "      <td>1/4/2017</td>\n",
       "    </tr>\n",
       "    <tr>\n",
       "      <th>199969</th>\n",
       "      <td>I had a debit that was included in my chapter ...</td>\n",
       "      <td>Debt collection</td>\n",
       "      <td>8/19/2016</td>\n",
       "    </tr>\n",
       "  </tbody>\n",
       "</table>\n",
       "<p>164490 rows × 3 columns</p>\n",
       "</div>"
      ],
      "text/plain": [
       "                                         consumer-message  \\\n",
       "0       I have outdated information on my credit repor...   \n",
       "2       An account on my credit report has a mistaken ...   \n",
       "3       This company refuses to provide me verificatio...   \n",
       "4       This complaint is in regards to Square Two Fin...   \n",
       "5       Started the refinance of home mortgage process...   \n",
       "...                                                   ...   \n",
       "199965  Our son was taken to XXXX XXXX XXXX XXXX XXXX ...   \n",
       "199966  On XXXX/XXXX/13, without my authorization, Ban...   \n",
       "199967  I had an account with XXXX in XX/XX/XXXX this ...   \n",
       "199968  I was contacted on XX/XX/XXXX email by XXXX fr...   \n",
       "199969  I had a debit that was included in my chapter ...   \n",
       "\n",
       "                        product date-received  \n",
       "0              Credit reporting     10/1/2016  \n",
       "2              Credit reporting     6/15/2015  \n",
       "3               Debt collection      2/3/2016  \n",
       "4               Debt collection     2/17/2016  \n",
       "5                      Mortgage    11/18/2016  \n",
       "...                         ...           ...  \n",
       "199965          Debt collection     11/9/2016  \n",
       "199966  Bank account or service     1/22/2016  \n",
       "199967          Debt collection      2/7/2017  \n",
       "199968                 Mortgage      1/4/2017  \n",
       "199969          Debt collection     8/19/2016  \n",
       "\n",
       "[164490 rows x 3 columns]"
      ]
     },
     "execution_count": 12,
     "metadata": {},
     "output_type": "execute_result"
    }
   ],
   "source": [
    "new_df"
   ]
  },
  {
   "cell_type": "code",
   "execution_count": 13,
   "metadata": {
    "colab": {
     "base_uri": "https://localhost:8080/",
     "height": 712
    },
    "id": "n9GL4qy8pYhQ",
    "outputId": "46bef84a-1144-48cb-b475-14ca11baaf0d"
   },
   "outputs": [
    {
     "data": {
      "text/plain": [
       "<AxesSubplot:xlabel='product', ylabel='count'>"
      ]
     },
     "execution_count": 13,
     "metadata": {},
     "output_type": "execute_result"
    },
    {
     "data": {
      "image/png": "[encoded data removed]",
      "text/plain": [
       "<Figure size 432x288 with 1 Axes>"
      ]
     },
     "metadata": {},
     "output_type": "display_data"
    }
   ],
   "source": [
    "plt.xticks(rotation=90)\n",
    "sns.countplot(data=new_df, x='product')"
   ]
  },
  {
   "cell_type": "markdown",
   "metadata": {
    "id": "LtXf3c_apYhQ"
   },
   "source": [
    "## Utilizando RNN"
   ]
  },
  {
   "cell_type": "code",
   "execution_count": 14,
   "metadata": {
    "colab": {
     "base_uri": "https://localhost:8080/"
    },
    "id": "oPu1VW3npYhQ",
    "outputId": "d381ccb6-ae88-4777-aa70-e38006bb0d12"
   },
   "outputs": [
    {
     "name": "stderr",
     "output_type": "stream",
     "text": [
      "[nltk_data] Downloading package wordnet to\n",
      "[nltk_data]     C:\\Users\\Dayvison\\AppData\\Roaming\\nltk_data...\n",
      "[nltk_data]   Package wordnet is already up-to-date!\n",
      "[nltk_data] Downloading package punkt to\n",
      "[nltk_data]     C:\\Users\\Dayvison\\AppData\\Roaming\\nltk_data...\n",
      "[nltk_data]   Package punkt is already up-to-date!\n",
      "[nltk_data] Downloading package stopwords to\n",
      "[nltk_data]     C:\\Users\\Dayvison\\AppData\\Roaming\\nltk_data...\n",
      "[nltk_data]   Package stopwords is already up-to-date!\n",
      "[nltk_data] Downloading package omw-1.4 to\n",
      "[nltk_data]     C:\\Users\\Dayvison\\AppData\\Roaming\\nltk_data...\n",
      "[nltk_data]   Package omw-1.4 is already up-to-date!\n"
     ]
    },
    {
     "data": {
      "text/plain": [
       "True"
      ]
     },
     "execution_count": 14,
     "metadata": {},
     "output_type": "execute_result"
    }
   ],
   "source": [
    "import torch\n",
    "from torch.utils.data import Dataset, DataLoader\n",
    "import gensim.downloader\n",
    "from nltk.tokenize import word_tokenize\n",
    "from sklearn.preprocessing import LabelEncoder\n",
    "from sklearn.model_selection import train_test_split\n",
    "import nltk\n",
    "from nltk.stem import WordNetLemmatizer\n",
    "import re\n",
    "from tqdm import tqdm\n",
    "import matplotlib.pyplot as plt\n",
    "from sklearn.metrics import classification_report, confusion_matrix, balanced_accuracy_score\n",
    "from imblearn.under_sampling import RandomUnderSampler\n",
    "import numpy as np\n",
    "import random\n",
    "from nltk.corpus import wordnet\n",
    "from torch.nn.utils.rnn import pad_sequence\n",
    "from torch.utils.data import TensorDataset\n",
    "\n",
    "nltk.download('wordnet')\n",
    "nltk.download('punkt')\n",
    "nltk.download('stopwords')\n",
    "nltk.download('omw-1.4')"
   ]
  },
  {
   "cell_type": "markdown",
   "metadata": {},
   "source": [
    "Utilizei o word2vec para a transformação das frases em vetores númericos, e utilizo os pesos como parâmetro na camada de Embedding."
   ]
  },
  {
   "cell_type": "code",
   "execution_count": 15,
   "metadata": {
    "colab": {
     "base_uri": "https://localhost:8080/"
    },
    "id": "2SgmGHCnpYhQ",
    "outputId": "4385f683-9fc8-4ba5-c817-fcaf7b744022"
   },
   "outputs": [],
   "source": [
    "w2vec = gensim.downloader.load('word2vec-google-news-300')"
   ]
  },
  {
   "cell_type": "code",
   "execution_count": 16,
   "metadata": {
    "id": "olQLvuhhpYhQ"
   },
   "outputs": [],
   "source": [
    "w2v_weights = w2vec.vectors"
   ]
  },
  {
   "cell_type": "markdown",
   "metadata": {},
   "source": [
    "Tentei utilizar o undersampler mas não ajudou e estou perdendo informações relevantes por conta do fator temporal"
   ]
  },
  {
   "cell_type": "code",
   "execution_count": 17,
   "metadata": {
    "id": "Km-5GwbipYhQ"
   },
   "outputs": [],
   "source": [
    "# rus = RandomUnderSampler()\n",
    "# X_resampled, y_resampled = rus.fit_resample(new_df.drop(columns=['product']), new_df['product'])\n",
    "# df_resampled = pd.concat([X_resampled, pd.DataFrame(y_resampled, columns=['product'])], axis=1)"
   ]
  },
  {
   "cell_type": "markdown",
   "metadata": {},
   "source": [
    "Fiz uma simples função que limpa os textos"
   ]
  },
  {
   "cell_type": "code",
   "execution_count": 18,
   "metadata": {
    "id": "wgjpAvwbpYhR"
   },
   "outputs": [],
   "source": [
    "def get_only_chars(line):\n",
    "\n",
    "    clean_line = \"\"\n",
    "    \n",
    "    line = line.replace(\"’\", \"\")\n",
    "    line = line.replace(\"'\", \"\")\n",
    "    line = line.replace(\"-\", \" \") \n",
    "    line = line.replace(\"\\t\", \" \")\n",
    "    line = line.replace(\"\\n\", \" \")\n",
    "    line = line.lower()\n",
    "\n",
    "    for char in line:\n",
    "        if char in 'qwertyuiopasdfghjklzxcvbnm ':\n",
    "            clean_line += char\n",
    "        else:\n",
    "            clean_line += ' '\n",
    "\n",
    "    clean_line = re.sub(' +',' ',clean_line)\n",
    "    \n",
    "    if clean_line[0] == ' ':\n",
    "        clean_line = clean_line[1:]\n",
    "\n",
    "    return clean_line"
   ]
  },
  {
   "cell_type": "code",
   "execution_count": 19,
   "metadata": {
    "colab": {
     "base_uri": "https://localhost:8080/"
    },
    "id": "SoRte3QapYhR",
    "outputId": "eb194539-00a4-4e08-bf41-bb80fc2ef6aa"
   },
   "outputs": [
    {
     "name": "stderr",
     "output_type": "stream",
     "text": [
      "C:\\Users\\Dayvison\\AppData\\Local\\Temp/ipykernel_17300/837127455.py:1: SettingWithCopyWarning: \n",
      "A value is trying to be set on a copy of a slice from a DataFrame.\n",
      "Try using .loc[row_indexer,col_indexer] = value instead\n",
      "\n",
      "See the caveats in the documentation: https://pandas.pydata.org/pandas-docs/stable/user_guide/indexing.html#returning-a-view-versus-a-copy\n",
      "  new_df['consumer-message'] = new_df['consumer-message'].apply(get_only_chars)\n"
     ]
    }
   ],
   "source": [
    "new_df['consumer-message'] = new_df['consumer-message'].apply(get_only_chars)"
   ]
  },
  {
   "cell_type": "markdown",
   "metadata": {
    "id": "JeBaAF5opYhR"
   },
   "source": [
    "### OverSampling"
   ]
  },
  {
   "cell_type": "markdown",
   "metadata": {},
   "source": [
    "Tentei utilizar a substituição por sinônimo para gerar uma frase para cada frase dos dados"
   ]
  },
  {
   "cell_type": "code",
   "execution_count": 20,
   "metadata": {
    "id": "PTAZM4J0pYhR"
   },
   "outputs": [],
   "source": [
    "def get_synonyms(word):\n",
    "    \n",
    "    synonyms = set()\n",
    "    \n",
    "    for syn in wordnet.synsets(word): \n",
    "        for l in syn.lemmas(): \n",
    "            synonym = l.name().replace(\"_\", \" \").replace(\"-\", \" \").lower()\n",
    "            synonym = \"\".join([char for char in synonym if char in ' qwertyuiopasdfghjklzxcvbnm'])\n",
    "            synonyms.add(synonym) \n",
    "    \n",
    "    if word in synonyms:\n",
    "        synonyms.remove(word)\n",
    "    \n",
    "    return list(synonyms)\n",
    "\n",
    "def synonym_replacement(words, n):\n",
    "    \n",
    "    words = words.split()\n",
    "    \n",
    "    new_words = words.copy()\n",
    "    random_word_list = list(set([word for word in words if word not in stop_words]))\n",
    "    random.shuffle(random_word_list)\n",
    "    num_replaced = 0\n",
    "    \n",
    "    for random_word in random_word_list:\n",
    "        synonyms = get_synonyms(random_word)\n",
    "        \n",
    "        if len(synonyms) >= 1:\n",
    "            synonym = random.choice(list(synonyms))\n",
    "            new_words = [synonym if word == random_word else word for word in new_words]\n",
    "            num_replaced += 1\n",
    "        \n",
    "        if num_replaced >= n: #only replace up to n words\n",
    "            break\n",
    "\n",
    "    sentence = ' '.join(new_words)\n",
    "\n",
    "    return sentence"
   ]
  },
  {
   "cell_type": "markdown",
   "metadata": {},
   "source": [
    "Defino as stopwords e utilizo o labelencoder para transformar as classes numéricas"
   ]
  },
  {
   "cell_type": "code",
   "execution_count": 21,
   "metadata": {
    "id": "2gvsFZ-rpYhR"
   },
   "outputs": [],
   "source": [
    "stop_words = nltk.corpus.stopwords.words('english')"
   ]
  },
  {
   "cell_type": "code",
   "execution_count": 22,
   "metadata": {
    "colab": {
     "base_uri": "https://localhost:8080/"
    },
    "id": "luL7VT-upYhR",
    "outputId": "723559b9-ad51-4486-df7b-ff7fc115182e"
   },
   "outputs": [
    {
     "name": "stderr",
     "output_type": "stream",
     "text": [
      "C:\\Users\\Dayvison\\AppData\\Local\\Temp/ipykernel_17300/4112430372.py:2: SettingWithCopyWarning: \n",
      "A value is trying to be set on a copy of a slice from a DataFrame.\n",
      "Try using .loc[row_indexer,col_indexer] = value instead\n",
      "\n",
      "See the caveats in the documentation: https://pandas.pydata.org/pandas-docs/stable/user_guide/indexing.html#returning-a-view-versus-a-copy\n",
      "  new_df['product'] = enc.fit_transform(new_df['product'])\n"
     ]
    }
   ],
   "source": [
    "enc = LabelEncoder()\n",
    "new_df['product'] = enc.fit_transform(new_df['product'])"
   ]
  },
  {
   "cell_type": "markdown",
   "metadata": {},
   "source": [
    "Aqui eu transformo as datas em datetime do pandas e faço a ordenação"
   ]
  },
  {
   "cell_type": "code",
   "execution_count": 26,
   "metadata": {},
   "outputs": [
    {
     "name": "stderr",
     "output_type": "stream",
     "text": [
      "C:\\Users\\Dayvison\\AppData\\Local\\Temp/ipykernel_17300/4289681283.py:1: SettingWithCopyWarning: \n",
      "A value is trying to be set on a copy of a slice from a DataFrame.\n",
      "Try using .loc[row_indexer,col_indexer] = value instead\n",
      "\n",
      "See the caveats in the documentation: https://pandas.pydata.org/pandas-docs/stable/user_guide/indexing.html#returning-a-view-versus-a-copy\n",
      "  new_df['date-received'] = pd.to_datetime(new_df['date-received'])\n"
     ]
    }
   ],
   "source": [
    "new_df['date-received'] = pd.to_datetime(new_df['date-received'])\n",
    "new_df = new_df.sort_values('date-received')"
   ]
  },
  {
   "cell_type": "code",
   "execution_count": 27,
   "metadata": {},
   "outputs": [
    {
     "data": {
      "text/html": [
       "<div>\n",
       "<style scoped>\n",
       "    .dataframe tbody tr th:only-of-type {\n",
       "        vertical-align: middle;\n",
       "    }\n",
       "\n",
       "    .dataframe tbody tr th {\n",
       "        vertical-align: top;\n",
       "    }\n",
       "\n",
       "    .dataframe thead th {\n",
       "        text-align: right;\n",
       "    }\n",
       "</style>\n",
       "<table border=\"1\" class=\"dataframe\">\n",
       "  <thead>\n",
       "    <tr style=\"text-align: right;\">\n",
       "      <th></th>\n",
       "      <th>consumer-message</th>\n",
       "      <th>product</th>\n",
       "      <th>date-received</th>\n",
       "    </tr>\n",
       "  </thead>\n",
       "  <tbody>\n",
       "    <tr>\n",
       "      <th>155592</th>\n",
       "      <td>i pulled my credit file xx xx xxxx and noticed...</td>\n",
       "      <td>1</td>\n",
       "      <td>2015-03-19</td>\n",
       "    </tr>\n",
       "    <tr>\n",
       "      <th>11202</th>\n",
       "      <td>i wrote to xxxx asking them to stop calling xx...</td>\n",
       "      <td>4</td>\n",
       "      <td>2015-03-19</td>\n",
       "    </tr>\n",
       "    <tr>\n",
       "      <th>24780</th>\n",
       "      <td>this is growing very tiresome three weeks ago ...</td>\n",
       "      <td>2</td>\n",
       "      <td>2015-03-19</td>\n",
       "    </tr>\n",
       "    <tr>\n",
       "      <th>11990</th>\n",
       "      <td>i have reached out to the company however they...</td>\n",
       "      <td>4</td>\n",
       "      <td>2015-03-19</td>\n",
       "    </tr>\n",
       "    <tr>\n",
       "      <th>145788</th>\n",
       "      <td>i never took any loan out ever from the compan...</td>\n",
       "      <td>4</td>\n",
       "      <td>2015-03-19</td>\n",
       "    </tr>\n",
       "    <tr>\n",
       "      <th>...</th>\n",
       "      <td>...</td>\n",
       "      <td>...</td>\n",
       "      <td>...</td>\n",
       "    </tr>\n",
       "    <tr>\n",
       "      <th>197196</th>\n",
       "      <td>i recently submitted a request to xxxx as well...</td>\n",
       "      <td>3</td>\n",
       "      <td>2017-11-03</td>\n",
       "    </tr>\n",
       "    <tr>\n",
       "      <th>197198</th>\n",
       "      <td>they are calling my job and my cell phone all ...</td>\n",
       "      <td>4</td>\n",
       "      <td>2017-11-03</td>\n",
       "    </tr>\n",
       "    <tr>\n",
       "      <th>196903</th>\n",
       "      <td>i am currently refinancing my home and consoli...</td>\n",
       "      <td>3</td>\n",
       "      <td>2017-11-03</td>\n",
       "    </tr>\n",
       "    <tr>\n",
       "      <th>197068</th>\n",
       "      <td>i ordered my credit report from chex systems a...</td>\n",
       "      <td>3</td>\n",
       "      <td>2017-11-03</td>\n",
       "    </tr>\n",
       "    <tr>\n",
       "      <th>197187</th>\n",
       "      <td>i keep getting calls from erc xxxx asking for ...</td>\n",
       "      <td>4</td>\n",
       "      <td>2017-11-04</td>\n",
       "    </tr>\n",
       "  </tbody>\n",
       "</table>\n",
       "<p>164490 rows × 3 columns</p>\n",
       "</div>"
      ],
      "text/plain": [
       "                                         consumer-message  product  \\\n",
       "155592  i pulled my credit file xx xx xxxx and noticed...        1   \n",
       "11202   i wrote to xxxx asking them to stop calling xx...        4   \n",
       "24780   this is growing very tiresome three weeks ago ...        2   \n",
       "11990   i have reached out to the company however they...        4   \n",
       "145788  i never took any loan out ever from the compan...        4   \n",
       "...                                                   ...      ...   \n",
       "197196  i recently submitted a request to xxxx as well...        3   \n",
       "197198  they are calling my job and my cell phone all ...        4   \n",
       "196903  i am currently refinancing my home and consoli...        3   \n",
       "197068  i ordered my credit report from chex systems a...        3   \n",
       "197187  i keep getting calls from erc xxxx asking for ...        4   \n",
       "\n",
       "       date-received  \n",
       "155592    2015-03-19  \n",
       "11202     2015-03-19  \n",
       "24780     2015-03-19  \n",
       "11990     2015-03-19  \n",
       "145788    2015-03-19  \n",
       "...              ...  \n",
       "197196    2017-11-03  \n",
       "197198    2017-11-03  \n",
       "196903    2017-11-03  \n",
       "197068    2017-11-03  \n",
       "197187    2017-11-04  \n",
       "\n",
       "[164490 rows x 3 columns]"
      ]
     },
     "execution_count": 27,
     "metadata": {},
     "output_type": "execute_result"
    }
   ],
   "source": [
    "new_df"
   ]
  },
  {
   "cell_type": "markdown",
   "metadata": {},
   "source": [
    "Aqui eu percorro cada classe para separar 70% para o treino e 30% para o teste, do jeito que está, a ordem temporal é mantida"
   ]
  },
  {
   "cell_type": "code",
   "execution_count": 28,
   "metadata": {
    "id": "CaP8HJIjtzVp"
   },
   "outputs": [],
   "source": [
    "classes = new_df['product'].unique()"
   ]
  },
  {
   "cell_type": "code",
   "execution_count": 29,
   "metadata": {
    "id": "LdbqNobkpYhU"
   },
   "outputs": [],
   "source": [
    "lista_treino = []\n",
    "lista_test = []\n",
    "\n",
    "for classe in classes:\n",
    "    \n",
    "    current_df = new_df[new_df['product'] == classe]\n",
    "    \n",
    "    split_index = int(len(current_df) * 0.7)\n",
    "    train_data = current_df[:split_index]\n",
    "    test_data = current_df[split_index:]\n",
    "    \n",
    "    lista_treino.append(train_data)\n",
    "    lista_test.append(test_data)"
   ]
  },
  {
   "cell_type": "code",
   "execution_count": 30,
   "metadata": {
    "id": "sqHkG3AwpYhU"
   },
   "outputs": [],
   "source": [
    "data_train = pd.concat(lista_treino, axis=0, sort=False)\n",
    "data_test = pd.concat(lista_test, axis=0, sort=False)"
   ]
  },
  {
   "cell_type": "markdown",
   "metadata": {},
   "source": [
    "Seleciono algumas classes para ter a geração de frases, mas mesmo com isso eu não obtive melhora na rede criada"
   ]
  },
  {
   "cell_type": "code",
   "execution_count": 30,
   "metadata": {
    "id": "eaL377KtpYhS"
   },
   "outputs": [],
   "source": [
    "credit = data_train[data_train['product'] == 1]\n",
    "bank = data_train[data_train['product'] == 0]\n",
    "credit_report = data_train[data_train['product'] == 3]\n",
    "\n",
    "lista_pd = [credit, bank, credit_report]"
   ]
  },
  {
   "cell_type": "code",
   "execution_count": 31,
   "metadata": {
    "id": "28jEYCKTpYhS"
   },
   "outputs": [],
   "source": [
    "n_vezes = 1\n",
    "\n",
    "for i in range(n_vezes):\n",
    "    \n",
    "    for df in lista_pd:\n",
    "            \n",
    "        df = df.copy()\n",
    "        df = df.reset_index().drop(columns=['index'])\n",
    "        textos = df['consumer-message']\n",
    "        \n",
    "        for i in range(len(textos)):\n",
    "            new_frase = synonym_replacement(textos[i], 2)\n",
    "            df.loc[len(df)] = [new_frase, df['product'].iloc[i], df['date-received'].iloc[i]]\n",
    "\n",
    "        data_train = pd.concat([data_train, df])"
   ]
  },
  {
   "cell_type": "code",
   "execution_count": 33,
   "metadata": {
    "colab": {
     "base_uri": "https://localhost:8080/",
     "height": 423
    },
    "id": "3tf6qkkrvvPR",
    "outputId": "4563e702-d137-496e-f359-9ef7a558b361"
   },
   "outputs": [
    {
     "data": {
      "text/html": [
       "<div>\n",
       "<style scoped>\n",
       "    .dataframe tbody tr th:only-of-type {\n",
       "        vertical-align: middle;\n",
       "    }\n",
       "\n",
       "    .dataframe tbody tr th {\n",
       "        vertical-align: top;\n",
       "    }\n",
       "\n",
       "    .dataframe thead th {\n",
       "        text-align: right;\n",
       "    }\n",
       "</style>\n",
       "<table border=\"1\" class=\"dataframe\">\n",
       "  <thead>\n",
       "    <tr style=\"text-align: right;\">\n",
       "      <th></th>\n",
       "      <th>consumer-message</th>\n",
       "      <th>product</th>\n",
       "      <th>date-received</th>\n",
       "    </tr>\n",
       "  </thead>\n",
       "  <tbody>\n",
       "    <tr>\n",
       "      <th>155592</th>\n",
       "      <td>i pulled my credit file xx xx xxxx and noticed...</td>\n",
       "      <td>1</td>\n",
       "      <td>2015-03-19</td>\n",
       "    </tr>\n",
       "    <tr>\n",
       "      <th>97002</th>\n",
       "      <td>i am a credit card account holder with chase m...</td>\n",
       "      <td>1</td>\n",
       "      <td>2015-03-19</td>\n",
       "    </tr>\n",
       "    <tr>\n",
       "      <th>88528</th>\n",
       "      <td>in late xx xx xxxx or early xx xx xxxx i recei...</td>\n",
       "      <td>1</td>\n",
       "      <td>2015-03-19</td>\n",
       "    </tr>\n",
       "    <tr>\n",
       "      <th>118565</th>\n",
       "      <td>citibank is calling and harassing me i do not ...</td>\n",
       "      <td>1</td>\n",
       "      <td>2015-03-19</td>\n",
       "    </tr>\n",
       "    <tr>\n",
       "      <th>36309</th>\n",
       "      <td>mel s harris assoc used deceptive collection p...</td>\n",
       "      <td>1</td>\n",
       "      <td>2015-03-19</td>\n",
       "    </tr>\n",
       "    <tr>\n",
       "      <th>...</th>\n",
       "      <td>...</td>\n",
       "      <td>...</td>\n",
       "      <td>...</td>\n",
       "    </tr>\n",
       "    <tr>\n",
       "      <th>189870</th>\n",
       "      <td>frankly an opinion formed by direct response f...</td>\n",
       "      <td>3</td>\n",
       "      <td>2017-07-21</td>\n",
       "    </tr>\n",
       "    <tr>\n",
       "      <th>194465</th>\n",
       "      <td>this is follow up to a case already filed with...</td>\n",
       "      <td>3</td>\n",
       "      <td>2017-07-21</td>\n",
       "    </tr>\n",
       "    <tr>\n",
       "      <th>198190</th>\n",
       "      <td>notified xxxx xx xx xxxx and sent another disp...</td>\n",
       "      <td>3</td>\n",
       "      <td>2017-07-21</td>\n",
       "    </tr>\n",
       "    <tr>\n",
       "      <th>189594</th>\n",
       "      <td>they are saying i applied twice for a credit c...</td>\n",
       "      <td>3</td>\n",
       "      <td>2017-07-21</td>\n",
       "    </tr>\n",
       "    <tr>\n",
       "      <th>189603</th>\n",
       "      <td>xxxx xxxx xxxx xxxx pa xxxx i never lived at t...</td>\n",
       "      <td>3</td>\n",
       "      <td>2017-07-21</td>\n",
       "    </tr>\n",
       "  </tbody>\n",
       "</table>\n",
       "<p>115140 rows × 3 columns</p>\n",
       "</div>"
      ],
      "text/plain": [
       "                                         consumer-message  product  \\\n",
       "155592  i pulled my credit file xx xx xxxx and noticed...        1   \n",
       "97002   i am a credit card account holder with chase m...        1   \n",
       "88528   in late xx xx xxxx or early xx xx xxxx i recei...        1   \n",
       "118565  citibank is calling and harassing me i do not ...        1   \n",
       "36309   mel s harris assoc used deceptive collection p...        1   \n",
       "...                                                   ...      ...   \n",
       "189870  frankly an opinion formed by direct response f...        3   \n",
       "194465  this is follow up to a case already filed with...        3   \n",
       "198190  notified xxxx xx xx xxxx and sent another disp...        3   \n",
       "189594  they are saying i applied twice for a credit c...        3   \n",
       "189603  xxxx xxxx xxxx xxxx pa xxxx i never lived at t...        3   \n",
       "\n",
       "       date-received  \n",
       "155592    2015-03-19  \n",
       "97002     2015-03-19  \n",
       "88528     2015-03-19  \n",
       "118565    2015-03-19  \n",
       "36309     2015-03-19  \n",
       "...              ...  \n",
       "189870    2017-07-21  \n",
       "194465    2017-07-21  \n",
       "198190    2017-07-21  \n",
       "189594    2017-07-21  \n",
       "189603    2017-07-21  \n",
       "\n",
       "[115140 rows x 3 columns]"
      ]
     },
     "execution_count": 33,
     "metadata": {},
     "output_type": "execute_result"
    }
   ],
   "source": [
    "data_train"
   ]
  },
  {
   "cell_type": "markdown",
   "metadata": {},
   "source": [
    "A partir daqui eu transformo cada frase numa lista de palavras, removo stopwords e troco cada palavra por seu índice no word2vec"
   ]
  },
  {
   "cell_type": "code",
   "execution_count": 34,
   "metadata": {
    "id": "zVgtshb5pYhS"
   },
   "outputs": [],
   "source": [
    "# text = text.values\n",
    "data_train_msg = data_train['consumer-message'].values\n",
    "data_test_msg = data_test['consumer-message'].values"
   ]
  },
  {
   "cell_type": "code",
   "execution_count": 35,
   "metadata": {
    "id": "71EXYepMpYhT"
   },
   "outputs": [],
   "source": [
    "def tokenizer(df):\n",
    "    \n",
    "    tokens = []\n",
    "    for texto in df:\n",
    "        tokens.append(word_tokenize(texto))\n",
    "    \n",
    "    return tokens\n",
    "\n",
    "def remove_stop_words(tokens):\n",
    "    \n",
    "    for i in range(len(tokens)):\n",
    "        tokens[i] = [y for y in tokens[i] if y not in stop_words]\n",
    "        \n",
    "    return tokens\n",
    "    \n",
    "def vocab(tokens):\n",
    "    result = []\n",
    "\n",
    "    for token in tokens:\n",
    "        try:\n",
    "            result.append(w2vec.key_to_index[token])\n",
    "            \n",
    "        except KeyError:\n",
    "            continue\n",
    "\n",
    "    return result \n",
    "\n",
    "def tokens_i(tokens):\n",
    "    \n",
    "    tokens_id = []\n",
    "\n",
    "    for lista in tokens:\n",
    "        tokens_id.append(vocab(lista))\n",
    "        \n",
    "    return tokens_id"
   ]
  },
  {
   "cell_type": "code",
   "execution_count": 36,
   "metadata": {
    "id": "arWmbfWwpYhT"
   },
   "outputs": [],
   "source": [
    "tokens_treino = tokenizer(data_train_msg)\n",
    "tokens_test = tokenizer(data_test_msg)"
   ]
  },
  {
   "cell_type": "code",
   "execution_count": 37,
   "metadata": {
    "id": "GfZP3vF_wArh"
   },
   "outputs": [],
   "source": [
    "tokens_treino_stop = remove_stop_words(tokens_treino)\n",
    "tokens_test_stop = remove_stop_words(tokens_test)"
   ]
  },
  {
   "cell_type": "code",
   "execution_count": 38,
   "metadata": {
    "colab": {
     "base_uri": "https://localhost:8080/",
     "height": 341
    },
    "id": "0W8WiA9ipYhT",
    "outputId": "b9caf5eb-3056-48c1-b812-921123f69025"
   },
   "outputs": [],
   "source": [
    "tokens_id_treino = tokens_i(tokens_treino_stop)\n",
    "tokens_id_test = tokens_i(tokens_test_stop)"
   ]
  },
  {
   "cell_type": "markdown",
   "metadata": {},
   "source": [
    "Para liberar RAM"
   ]
  },
  {
   "cell_type": "code",
   "execution_count": 39,
   "metadata": {
    "id": "jXJm7lcEwpMa"
   },
   "outputs": [],
   "source": [
    "del tokens_treino\n",
    "del tokens_test\n",
    "del tokens_treino_stop\n",
    "del tokens_test_stop"
   ]
  },
  {
   "cell_type": "code",
   "execution_count": 40,
   "metadata": {
    "id": "d4e1I9sbpYhT"
   },
   "outputs": [],
   "source": [
    "dataset_treino = pd.DataFrame(data={'tokens_id':tokens_id_treino, 'label':data_train['product'], 'date':data_train['date-received']})\n",
    "dataset_teste = pd.DataFrame(data={'tokens_id':tokens_id_test, 'label':data_test['product'], 'date':data_test['date-received']})"
   ]
  },
  {
   "cell_type": "code",
   "execution_count": 41,
   "metadata": {
    "id": "Ht0_4kNdpYhT"
   },
   "outputs": [],
   "source": [
    "dataset_treino = dataset_treino.reset_index().drop(columns=['index'])\n",
    "dataset_teste = dataset_teste.reset_index().drop(columns=['index'])"
   ]
  },
  {
   "cell_type": "markdown",
   "metadata": {},
   "source": [
    "Removo linhas que possuem uma lista vazia"
   ]
  },
  {
   "cell_type": "code",
   "execution_count": 42,
   "metadata": {
    "id": "aJiAG5AUpYhT"
   },
   "outputs": [],
   "source": [
    "index_treino = []\n",
    "index_test = []\n",
    "\n",
    "\n",
    "for i in range(len(dataset_treino['tokens_id'])):\n",
    "    if len(dataset_treino['tokens_id'][i]) == 0:\n",
    "        index_treino.append(i)\n",
    "        \n",
    "for i in range(len(dataset_teste['tokens_id'])):\n",
    "    if len(dataset_teste['tokens_id'][i]) == 0:\n",
    "        index_test.append(i)     "
   ]
  },
  {
   "cell_type": "code",
   "execution_count": 43,
   "metadata": {
    "id": "Yc5yLHWppYhT"
   },
   "outputs": [],
   "source": [
    "dataset_treino = dataset_treino.drop(index_treino, axis=0).reset_index().drop(columns=['index'])\n",
    "dataset_teste = dataset_teste.drop(index_test, axis=0).reset_index().drop(columns=['index'])"
   ]
  },
  {
   "cell_type": "code",
   "execution_count": 44,
   "metadata": {},
   "outputs": [
    {
     "data": {
      "text/html": [
       "<div>\n",
       "<style scoped>\n",
       "    .dataframe tbody tr th:only-of-type {\n",
       "        vertical-align: middle;\n",
       "    }\n",
       "\n",
       "    .dataframe tbody tr th {\n",
       "        vertical-align: top;\n",
       "    }\n",
       "\n",
       "    .dataframe thead th {\n",
       "        text-align: right;\n",
       "    }\n",
       "</style>\n",
       "<table border=\"1\" class=\"dataframe\">\n",
       "  <thead>\n",
       "    <tr style=\"text-align: right;\">\n",
       "      <th></th>\n",
       "      <th>tokens_id</th>\n",
       "      <th>label</th>\n",
       "      <th>date</th>\n",
       "    </tr>\n",
       "  </thead>\n",
       "  <tbody>\n",
       "    <tr>\n",
       "      <th>0</th>\n",
       "      <td>[1565, 912, 2281, 71461, 71461, 262703, 3894, ...</td>\n",
       "      <td>1</td>\n",
       "      <td>2015-03-19</td>\n",
       "    </tr>\n",
       "    <tr>\n",
       "      <th>1</th>\n",
       "      <td>[912, 2042, 1201, 7643, 5148, 2042, 2042, 1201...</td>\n",
       "      <td>1</td>\n",
       "      <td>2015-03-19</td>\n",
       "    </tr>\n",
       "    <tr>\n",
       "      <th>2</th>\n",
       "      <td>[401, 71461, 71461, 262703, 282, 71461, 71461,...</td>\n",
       "      <td>1</td>\n",
       "      <td>2015-03-19</td>\n",
       "    </tr>\n",
       "    <tr>\n",
       "      <th>3</th>\n",
       "      <td>[1375276, 1351, 19498, 1201, 162, 1242, 571, 4...</td>\n",
       "      <td>1</td>\n",
       "      <td>2015-03-19</td>\n",
       "    </tr>\n",
       "    <tr>\n",
       "      <th>4</th>\n",
       "      <td>[359502, 399274, 431216, 233, 18830, 2179, 224...</td>\n",
       "      <td>1</td>\n",
       "      <td>2015-03-19</td>\n",
       "    </tr>\n",
       "    <tr>\n",
       "      <th>...</th>\n",
       "      <td>...</td>\n",
       "      <td>...</td>\n",
       "      <td>...</td>\n",
       "    </tr>\n",
       "    <tr>\n",
       "      <th>115133</th>\n",
       "      <td>[11865, 1966, 2959, 1540, 1051, 7516, 868, 101...</td>\n",
       "      <td>3</td>\n",
       "      <td>2017-07-21</td>\n",
       "    </tr>\n",
       "    <tr>\n",
       "      <th>115134</th>\n",
       "      <td>[1202, 288, 311, 1003, 246, 262703, 1051, 510,...</td>\n",
       "      <td>3</td>\n",
       "      <td>2017-07-21</td>\n",
       "    </tr>\n",
       "    <tr>\n",
       "      <th>115135</th>\n",
       "      <td>[5809, 262703, 71461, 71461, 262703, 742, 197,...</td>\n",
       "      <td>3</td>\n",
       "      <td>2017-07-21</td>\n",
       "    </tr>\n",
       "    <tr>\n",
       "      <th>115136</th>\n",
       "      <td>[478, 3297, 1378, 912, 2042, 103832, 1920, 331...</td>\n",
       "      <td>3</td>\n",
       "      <td>2017-07-21</td>\n",
       "    </tr>\n",
       "    <tr>\n",
       "      <th>115137</th>\n",
       "      <td>[262703, 262703, 262703, 262703, 47621, 262703...</td>\n",
       "      <td>3</td>\n",
       "      <td>2017-07-21</td>\n",
       "    </tr>\n",
       "  </tbody>\n",
       "</table>\n",
       "<p>115138 rows × 3 columns</p>\n",
       "</div>"
      ],
      "text/plain": [
       "                                                tokens_id  label       date\n",
       "0       [1565, 912, 2281, 71461, 71461, 262703, 3894, ...      1 2015-03-19\n",
       "1       [912, 2042, 1201, 7643, 5148, 2042, 2042, 1201...      1 2015-03-19\n",
       "2       [401, 71461, 71461, 262703, 282, 71461, 71461,...      1 2015-03-19\n",
       "3       [1375276, 1351, 19498, 1201, 162, 1242, 571, 4...      1 2015-03-19\n",
       "4       [359502, 399274, 431216, 233, 18830, 2179, 224...      1 2015-03-19\n",
       "...                                                   ...    ...        ...\n",
       "115133  [11865, 1966, 2959, 1540, 1051, 7516, 868, 101...      3 2017-07-21\n",
       "115134  [1202, 288, 311, 1003, 246, 262703, 1051, 510,...      3 2017-07-21\n",
       "115135  [5809, 262703, 71461, 71461, 262703, 742, 197,...      3 2017-07-21\n",
       "115136  [478, 3297, 1378, 912, 2042, 103832, 1920, 331...      3 2017-07-21\n",
       "115137  [262703, 262703, 262703, 262703, 47621, 262703...      3 2017-07-21\n",
       "\n",
       "[115138 rows x 3 columns]"
      ]
     },
     "execution_count": 44,
     "metadata": {},
     "output_type": "execute_result"
    }
   ],
   "source": [
    "dataset_treino"
   ]
  },
  {
   "cell_type": "markdown",
   "metadata": {},
   "source": [
    "Aqui foi uma tentativa de criar uma classe para o dataset, mas escolhi usar o TensorDataset e ai usar o Dataloader"
   ]
  },
  {
   "cell_type": "code",
   "execution_count": null,
   "metadata": {
    "id": "8HFwuIphpYhU"
   },
   "outputs": [],
   "source": [
    "# class Dataset(Dataset):\n",
    "    \n",
    "#     def __init__(self, dataset):\n",
    "#         self.dataset = dataset\n",
    "#         self.data = [i for i in dataset['tokens_id']]\n",
    "\n",
    "#     def __len__(self):\n",
    "#         return len(self.data)\n",
    "\n",
    "#     def __getitem__(self, idx):\n",
    "#         return torch.LongTensor(self.data[idx]), torch.tensor(self.dataset['label'][idx], dtype=torch.float32)\n"
   ]
  },
  {
   "cell_type": "markdown",
   "metadata": {},
   "source": [
    "Transformo cada lista em tensores e jogo no pad_sequence para deixar todas do mesmo tamanho"
   ]
  },
  {
   "cell_type": "code",
   "execution_count": 45,
   "metadata": {
    "id": "5zetaYiKpYhU"
   },
   "outputs": [],
   "source": [
    "tokens_tensors = [torch.tensor(x) for x in dataset_treino['tokens_id']]\n",
    "padded_tokens = pad_sequence(tokens_tensors, batch_first=True, padding_value=0)\n",
    "labels_tensor = torch.tensor(dataset_treino['label'].values)\n",
    "dataset_train = TensorDataset(padded_tokens, labels_tensor)"
   ]
  },
  {
   "cell_type": "code",
   "execution_count": 46,
   "metadata": {
    "id": "Nqc1Ywy_pYhU"
   },
   "outputs": [],
   "source": [
    "tokens_tensors = [torch.tensor(x) for x in dataset_teste['tokens_id']]\n",
    "padded_tokens = pad_sequence(tokens_tensors, batch_first=True, padding_value=0)\n",
    "labels_tensor = torch.tensor(dataset_teste['label'].values)\n",
    "dataset_test = TensorDataset(padded_tokens, labels_tensor)"
   ]
  },
  {
   "cell_type": "code",
   "execution_count": 69,
   "metadata": {
    "id": "noY1P45MpYhU"
   },
   "outputs": [],
   "source": [
    "dataloader_train = DataLoader(dataset_train, shuffle=True)\n",
    "dataloader_test = DataLoader(dataset_test, shuffle=True)"
   ]
  },
  {
   "cell_type": "markdown",
   "metadata": {},
   "source": [
    "Essa foi a rede criada, tentei variar desde a quantidade de neurônios na camada RNN e também a quantidade de camadas ocultas mas não obtive uma melhora."
   ]
  },
  {
   "cell_type": "code",
   "execution_count": 70,
   "metadata": {
    "id": "syaLUaLRpYhU"
   },
   "outputs": [],
   "source": [
    "from torch import nn\n",
    "\n",
    "EMBED_LEN = 300\n",
    "HIDDEN_DIM = 10\n",
    "N_LAYERS = 2\n",
    "NUM_CLASSES = 6\n",
    "\n",
    "class TextClassifier(nn.Module):\n",
    "    def __init__(self, w2v_weights):\n",
    "        super(TextClassifier, self).__init__()\n",
    "\n",
    "        self.embedding_layer = nn.Embedding.from_pretrained(torch.FloatTensor(w2v_weights))\n",
    "        self.rnn = nn.RNN(input_size=EMBED_LEN, hidden_size=HIDDEN_DIM, num_layers=N_LAYERS)\n",
    "        self.linear = nn.Linear(HIDDEN_DIM, NUM_CLASSES)\n",
    "        \n",
    "    def forward(self, input):\n",
    "    \n",
    "        embeddings = self.embedding_layer(input)\n",
    "        output, hidden = self.rnn(embeddings)\n",
    "        output = self.linear(output[:, -1])\n",
    "\n",
    "        return output\n"
   ]
  },
  {
   "cell_type": "markdown",
   "metadata": {},
   "source": [
    "Esta foi outra rede que tentei utilizar, mas não coloquei comparações pois praticamente não teve diferenças"
   ]
  },
  {
   "cell_type": "code",
   "execution_count": 61,
   "metadata": {
    "id": "rgIcNNOfpYhV"
   },
   "outputs": [],
   "source": [
    "from torch import nn\n",
    "\n",
    "EMBED_LEN = 300\n",
    "HIDDEN_DIM_1 = 50\n",
    "HIDDEN_DIM_2 = 25\n",
    "NUM_CLASSES = 6\n",
    "\n",
    "class TextClassifier(nn.Module):\n",
    "    def __init__(self, w2v_weights):\n",
    "        super(TextClassifier, self).__init__()\n",
    "\n",
    "        self.embedding_layer = nn.Embedding.from_pretrained(torch.FloatTensor(w2v_weights))\n",
    "        self.linear1 = nn.Linear(EMBED_LEN, HIDDEN_DIM_1)\n",
    "        self.relu = nn.ReLU()\n",
    "        self.dropout = nn.Dropout(p=0.2)\n",
    "        self.linear2 = nn.Linear(HIDDEN_DIM_1, HIDDEN_DIM_2)\n",
    "        self.linear3 = nn.Linear(HIDDEN_DIM_2, NUM_CLASSES)\n",
    "        \n",
    "    def forward(self, input):\n",
    "    \n",
    "        embeddings = self.embedding_layer(input)\n",
    "\n",
    "        output = self.linear1(embeddings[:, -1, :])\n",
    "        output = self.relu(output)\n",
    "        output = self.dropout(output)\n",
    "\n",
    "        output = self.linear2(output)\n",
    "        output = self.relu(output)\n",
    "        output = self.dropout(output)\n",
    "\n",
    "        output = self.linear3(output)\n",
    "\n",
    "        return output\n"
   ]
  },
  {
   "cell_type": "markdown",
   "metadata": {},
   "source": [
    "Aqui foi uma alternativa pra caso eu não queira gerar mais dados, crio um vetor com pesos que influenciam na loss para ela dar um pouco mais de destaque para classes com menos dados"
   ]
  },
  {
   "cell_type": "code",
   "execution_count": 71,
   "metadata": {
    "id": "phsgfsoupYhV"
   },
   "outputs": [],
   "source": [
    "def calculate_class_weights(labels):\n",
    "    \n",
    "    unique_labels, counts = np.unique(labels, return_counts=True)\n",
    "    weights = 1.0 / torch.FloatTensor(counts)\n",
    "    weights /= torch.sum(weights)\n",
    "    class_weights = dict(zip(unique_labels, weights))\n",
    "    return class_weights\n"
   ]
  },
  {
   "cell_type": "code",
   "execution_count": 72,
   "metadata": {
    "id": "iW5r7nAspYhV"
   },
   "outputs": [],
   "source": [
    "class_weights = calculate_class_weights(dataset_treino['label'])\n",
    "class_weights_tensor = torch.tensor(list(class_weights.values()))"
   ]
  },
  {
   "cell_type": "code",
   "execution_count": 73,
   "metadata": {
    "id": "tH3n5QFSpYhV"
   },
   "outputs": [],
   "source": [
    "model = TextClassifier(w2v_weights=w2v_weights)\n",
    "device = torch.device('cpu') \n",
    "model.to(device)\n",
    "\n",
    "LR = 1e-3\n",
    "EPOCHS = 1\n",
    "loss_fn = nn.CrossEntropyLoss(weight=class_weights_tensor)\n",
    "# loss_fn = nn.CrossEntropyLoss()\n",
    "optimizer = torch.optim.SGD(model.parameters(), lr=LR)"
   ]
  },
  {
   "cell_type": "code",
   "execution_count": 75,
   "metadata": {
    "id": "GZ8LnE-5pYhV",
    "outputId": "f216179c-13e6-4732-abe1-df3dccc84a32",
    "scrolled": true
   },
   "outputs": [
    {
     "name": "stderr",
     "output_type": "stream",
     "text": [
      "  1%|▊                                                                          | 1198/115138 [00:02<04:39, 408.05it/s]\n",
      "100%|████████████████████████████████████████████████████████████████████████▉| 115130/115138 [03:11<00:00, 634.19it/s]"
     ]
    },
    {
     "name": "stdout",
     "output_type": "stream",
     "text": [
      " epoch loss: 1.692620776162587\n"
     ]
    },
    {
     "name": "stderr",
     "output_type": "stream",
     "text": [
      "\r\n",
      "100%|█████████████████████████████████████████████████████████████████████████| 115138/115138 [03:29<00:00, 634.19it/s]"
     ]
    }
   ],
   "source": [
    "progress_bar = tqdm(range(EPOCHS*len(dataloader_train)))\n",
    "running_loss = []\n",
    "\n",
    "model.train()\n",
    "\n",
    "for epoch in range(EPOCHS):\n",
    "    epoch_loss = 0\n",
    "    \n",
    "    for data, label in dataloader_train:\n",
    "        \n",
    "        data = data.to(device)\n",
    "        label = label.to(device)\n",
    "        \n",
    "        optimizer.zero_grad()\n",
    "        \n",
    "        out = model(data)\n",
    "        loss = loss_fn(out, label.long())\n",
    "\n",
    "        epoch_loss += loss.item()\n",
    "\n",
    "        \n",
    "        loss.backward()\n",
    "        optimizer.step()\n",
    "\n",
    "        progress_bar.update(1)\n",
    "    \n",
    "    epoch_loss /= len(dataloader_train)  \n",
    "    running_loss.append(epoch_loss)\n",
    "    \n",
    "    print(' epoch loss:', epoch_loss)\n"
   ]
  },
  {
   "cell_type": "code",
   "execution_count": 59,
   "metadata": {
    "id": "1byWKZvHpYhV"
   },
   "outputs": [
    {
     "name": "stderr",
     "output_type": "stream",
     "text": [
      "\r\n",
      "100%|█████████████████████████████████████████████████████████████████████████| 182895/182895 [06:07<00:00, 582.14it/s]"
     ]
    }
   ],
   "source": [
    "torch.save(model.state_dict(), 'modelo.pth')"
   ]
  },
  {
   "cell_type": "code",
   "execution_count": 60,
   "metadata": {
    "id": "KMAroMh1pYhV"
   },
   "outputs": [
    {
     "data": {
      "text/plain": [
       "<All keys matched successfully>"
      ]
     },
     "execution_count": 60,
     "metadata": {},
     "output_type": "execute_result"
    }
   ],
   "source": [
    "model = TextClassifier(w2v_weights)\n",
    "model.load_state_dict(torch.load('modelo.pth'))"
   ]
  },
  {
   "cell_type": "markdown",
   "metadata": {},
   "source": [
    "Como estava treinando com uma época, eu só possuo um valor."
   ]
  },
  {
   "cell_type": "code",
   "execution_count": 53,
   "metadata": {
    "id": "ny3kQiDcpYhW",
    "outputId": "93b5871b-9dfb-49ba-c5a8-1c5d547169f4"
   },
   "outputs": [
    {
     "data": {
      "image/png": "[encoded data removed]",
      "text/plain": [
       "<Figure size 576x432 with 1 Axes>"
      ]
     },
     "metadata": {},
     "output_type": "display_data"
    }
   ],
   "source": [
    "plt.figure(figsize=(8,6))\n",
    "plt.title('Loss Train')\n",
    "plt.plot(running_loss)\n",
    "plt.show()"
   ]
  },
  {
   "cell_type": "code",
   "execution_count": 76,
   "metadata": {
    "id": "bYYbtzdHpYhW"
   },
   "outputs": [],
   "source": [
    "def evaluate(model, loader):\n",
    "    model.eval()\n",
    "    y_pred = []\n",
    "    total_correct = 0\n",
    "    total_samples = 0\n",
    "    \n",
    "    with torch.no_grad():\n",
    "        for data, label in loader:\n",
    "            \n",
    "            data = data.to(device)\n",
    "        \n",
    "            label = label.to(device)\n",
    "            label = label.long()\n",
    "            \n",
    "            out = model(data)\n",
    "            print(out)\n",
    "            _, predicted = torch.max(out.data, 1)\n",
    "            y_pred.append(predicted)\n",
    "            \n",
    "            total_correct += (predicted == label).sum().item()\n",
    "            total_samples += label.size(0)\n",
    "            \n",
    "    y_pred = torch.cat(y_pred, dim=0)\n",
    "    accuracy = total_correct / total_samples\n",
    "    \n",
    "    return y_pred, accuracy\n"
   ]
  },
  {
   "cell_type": "code",
   "execution_count": null,
   "metadata": {
    "id": "DY2jjqgNpYhW",
    "outputId": "1007b68a-d39a-4511-9772-ee7f3dedafc5"
   },
   "outputs": [],
   "source": [
    "y_pred, acc = evaluate(model, dataloader_test)"
   ]
  },
  {
   "cell_type": "code",
   "execution_count": 56,
   "metadata": {
    "id": "pBRix9i8pYhW",
    "outputId": "1e5f272f-3600-4a03-ae4a-85c924c63ca6"
   },
   "outputs": [
    {
     "data": {
      "text/plain": [
       "0.08919959473150962"
      ]
     },
     "execution_count": 56,
     "metadata": {},
     "output_type": "execute_result"
    }
   ],
   "source": [
    "acc"
   ]
  },
  {
   "cell_type": "markdown",
   "metadata": {},
   "source": [
    "Vemos que ele não consegue classificar outra classe, é apenas uma, quebrei muito a cabeça sobre o que poderia ser mas não descobri, por isso no dataloader eu coloque o shuffle igual a true pois testei com e sem o shuffle e nada mudava."
   ]
  },
  {
   "cell_type": "code",
   "execution_count": 57,
   "metadata": {
    "id": "KiTIy-bqpYhW",
    "outputId": "a78f8d41-1c16-4412-e47a-746d7bb14e5a"
   },
   "outputs": [
    {
     "data": {
      "text/plain": [
       "tensor([3, 3, 3,  ..., 3, 3, 3])"
      ]
     },
     "execution_count": 57,
     "metadata": {},
     "output_type": "execute_result"
    }
   ],
   "source": [
    "y_pred"
   ]
  },
  {
   "cell_type": "code",
   "execution_count": 59,
   "metadata": {
    "id": "D_kgvM21pYhW",
    "outputId": "949327a4-7e59-44a0-ca7a-0154139a7f31"
   },
   "outputs": [
    {
     "data": {
      "text/plain": [
       "0.16666666666666666"
      ]
     },
     "execution_count": 59,
     "metadata": {},
     "output_type": "execute_result"
    }
   ],
   "source": [
    "balanced_accuracy_score(dataset_teste['label'].values, y_pred)"
   ]
  },
  {
   "cell_type": "code",
   "execution_count": 60,
   "metadata": {
    "id": "0TXns5UipYhX",
    "outputId": "aacd6c5e-2ee8-4b0c-fc21-243ac0ef7ec6"
   },
   "outputs": [
    {
     "name": "stdout",
     "output_type": "stream",
     "text": [
      "Report: \n",
      "\n"
     ]
    },
    {
     "name": "stderr",
     "output_type": "stream",
     "text": [
      "C:\\Users\\Dayvison\\AppData\\Roaming\\Python\\Python39\\site-packages\\sklearn\\metrics\\_classification.py:1334: UndefinedMetricWarning: Precision and F-score are ill-defined and being set to 0.0 in labels with no predicted samples. Use `zero_division` parameter to control this behavior.\n",
      "  _warn_prf(average, modifier, msg_start, len(result))\n"
     ]
    },
    {
     "name": "stdout",
     "output_type": "stream",
     "text": [
      "                                                                              precision    recall  f1-score   support\n",
      "\n",
      "                                                     Bank account or service       0.00      0.00      0.00      4467\n",
      "                                                                 Credit card       0.00      0.00      0.00      5653\n",
      "                                                            Credit reporting       0.00      0.00      0.00      9478\n",
      "Credit reporting, credit repair services, or other personal consumer reports       0.09      1.00      0.16      4402\n",
      "                                                             Debt collection       0.00      0.00      0.00     14375\n",
      "                                                                    Mortgage       0.00      0.00      0.00     10975\n",
      "\n",
      "                                                                    accuracy                           0.09     49350\n",
      "                                                                   macro avg       0.01      0.17      0.03     49350\n",
      "                                                                weighted avg       0.01      0.09      0.01     49350\n",
      "\n",
      "Confusion Matrix: \n",
      "\n",
      "[[    0     0     0  4467     0     0]\n",
      " [    0     0     0  5653     0     0]\n",
      " [    0     0     0  9478     0     0]\n",
      " [    0     0     0  4402     0     0]\n",
      " [    0     0     0 14375     0     0]\n",
      " [    0     0     0 10975     0     0]]\n"
     ]
    },
    {
     "name": "stderr",
     "output_type": "stream",
     "text": [
      "C:\\Users\\Dayvison\\AppData\\Roaming\\Python\\Python39\\site-packages\\sklearn\\metrics\\_classification.py:1334: UndefinedMetricWarning: Precision and F-score are ill-defined and being set to 0.0 in labels with no predicted samples. Use `zero_division` parameter to control this behavior.\n",
      "  _warn_prf(average, modifier, msg_start, len(result))\n",
      "C:\\Users\\Dayvison\\AppData\\Roaming\\Python\\Python39\\site-packages\\sklearn\\metrics\\_classification.py:1334: UndefinedMetricWarning: Precision and F-score are ill-defined and being set to 0.0 in labels with no predicted samples. Use `zero_division` parameter to control this behavior.\n",
      "  _warn_prf(average, modifier, msg_start, len(result))\n"
     ]
    }
   ],
   "source": [
    "print(\"Report: \\n\")\n",
    "print(classification_report(enc.inverse_transform(dataset_teste['label']), enc.inverse_transform(y_pred)))\n",
    "print('Confusion Matrix: \\n')\n",
    "print(confusion_matrix(dataset_teste['label'], y_pred))"
   ]
  },
  {
   "cell_type": "markdown",
   "metadata": {},
   "source": [
    "### Rede Bert"
   ]
  },
  {
   "cell_type": "code",
   "execution_count": 80,
   "metadata": {},
   "outputs": [
    {
     "data": {
      "text/html": [
       "<div>\n",
       "<style scoped>\n",
       "    .dataframe tbody tr th:only-of-type {\n",
       "        vertical-align: middle;\n",
       "    }\n",
       "\n",
       "    .dataframe tbody tr th {\n",
       "        vertical-align: top;\n",
       "    }\n",
       "\n",
       "    .dataframe thead th {\n",
       "        text-align: right;\n",
       "    }\n",
       "</style>\n",
       "<table border=\"1\" class=\"dataframe\">\n",
       "  <thead>\n",
       "    <tr style=\"text-align: right;\">\n",
       "      <th></th>\n",
       "      <th>consumer-message</th>\n",
       "      <th>product</th>\n",
       "      <th>date-received</th>\n",
       "    </tr>\n",
       "  </thead>\n",
       "  <tbody>\n",
       "    <tr>\n",
       "      <th>155592</th>\n",
       "      <td>i pulled my credit file xx xx xxxx and noticed...</td>\n",
       "      <td>1</td>\n",
       "      <td>2015-03-19</td>\n",
       "    </tr>\n",
       "    <tr>\n",
       "      <th>97002</th>\n",
       "      <td>i am a credit card account holder with chase m...</td>\n",
       "      <td>1</td>\n",
       "      <td>2015-03-19</td>\n",
       "    </tr>\n",
       "    <tr>\n",
       "      <th>88528</th>\n",
       "      <td>in late xx xx xxxx or early xx xx xxxx i recei...</td>\n",
       "      <td>1</td>\n",
       "      <td>2015-03-19</td>\n",
       "    </tr>\n",
       "    <tr>\n",
       "      <th>118565</th>\n",
       "      <td>citibank is calling and harassing me i do not ...</td>\n",
       "      <td>1</td>\n",
       "      <td>2015-03-19</td>\n",
       "    </tr>\n",
       "    <tr>\n",
       "      <th>36309</th>\n",
       "      <td>mel s harris assoc used deceptive collection p...</td>\n",
       "      <td>1</td>\n",
       "      <td>2015-03-19</td>\n",
       "    </tr>\n",
       "    <tr>\n",
       "      <th>...</th>\n",
       "      <td>...</td>\n",
       "      <td>...</td>\n",
       "      <td>...</td>\n",
       "    </tr>\n",
       "    <tr>\n",
       "      <th>189870</th>\n",
       "      <td>frankly an opinion formed by direct response f...</td>\n",
       "      <td>3</td>\n",
       "      <td>2017-07-21</td>\n",
       "    </tr>\n",
       "    <tr>\n",
       "      <th>194465</th>\n",
       "      <td>this is follow up to a case already filed with...</td>\n",
       "      <td>3</td>\n",
       "      <td>2017-07-21</td>\n",
       "    </tr>\n",
       "    <tr>\n",
       "      <th>198190</th>\n",
       "      <td>notified xxxx xx xx xxxx and sent another disp...</td>\n",
       "      <td>3</td>\n",
       "      <td>2017-07-21</td>\n",
       "    </tr>\n",
       "    <tr>\n",
       "      <th>189594</th>\n",
       "      <td>they are saying i applied twice for a credit c...</td>\n",
       "      <td>3</td>\n",
       "      <td>2017-07-21</td>\n",
       "    </tr>\n",
       "    <tr>\n",
       "      <th>189603</th>\n",
       "      <td>xxxx xxxx xxxx xxxx pa xxxx i never lived at t...</td>\n",
       "      <td>3</td>\n",
       "      <td>2017-07-21</td>\n",
       "    </tr>\n",
       "  </tbody>\n",
       "</table>\n",
       "<p>115140 rows × 3 columns</p>\n",
       "</div>"
      ],
      "text/plain": [
       "                                         consumer-message  product  \\\n",
       "155592  i pulled my credit file xx xx xxxx and noticed...        1   \n",
       "97002   i am a credit card account holder with chase m...        1   \n",
       "88528   in late xx xx xxxx or early xx xx xxxx i recei...        1   \n",
       "118565  citibank is calling and harassing me i do not ...        1   \n",
       "36309   mel s harris assoc used deceptive collection p...        1   \n",
       "...                                                   ...      ...   \n",
       "189870  frankly an opinion formed by direct response f...        3   \n",
       "194465  this is follow up to a case already filed with...        3   \n",
       "198190  notified xxxx xx xx xxxx and sent another disp...        3   \n",
       "189594  they are saying i applied twice for a credit c...        3   \n",
       "189603  xxxx xxxx xxxx xxxx pa xxxx i never lived at t...        3   \n",
       "\n",
       "       date-received  \n",
       "155592    2015-03-19  \n",
       "97002     2015-03-19  \n",
       "88528     2015-03-19  \n",
       "118565    2015-03-19  \n",
       "36309     2015-03-19  \n",
       "...              ...  \n",
       "189870    2017-07-21  \n",
       "194465    2017-07-21  \n",
       "198190    2017-07-21  \n",
       "189594    2017-07-21  \n",
       "189603    2017-07-21  \n",
       "\n",
       "[115140 rows x 3 columns]"
      ]
     },
     "execution_count": 80,
     "metadata": {},
     "output_type": "execute_result"
    }
   ],
   "source": [
    "data_train"
   ]
  },
  {
   "cell_type": "markdown",
   "metadata": {},
   "source": [
    "Com tudo isso minha última esperança era uma rede pré-treinada, estou utilizando a BertForSequenceClassification da biblioteca transformers"
   ]
  },
  {
   "cell_type": "code",
   "execution_count": 119,
   "metadata": {},
   "outputs": [],
   "source": [
    "import torch\n",
    "from torch.utils.data import TensorDataset, DataLoader, RandomSampler\n",
    "from transformers import BertTokenizer, BertForSequenceClassification, AdamW"
   ]
  },
  {
   "cell_type": "code",
   "execution_count": 130,
   "metadata": {},
   "outputs": [
    {
     "name": "stderr",
     "output_type": "stream",
     "text": [
      "Some weights of the model checkpoint at bert-base-multilingual-cased were not used when initializing BertForSequenceClassification: ['cls.predictions.transform.dense.bias', 'cls.predictions.transform.LayerNorm.bias', 'cls.predictions.transform.LayerNorm.weight', 'cls.predictions.decoder.weight', 'cls.seq_relationship.bias', 'cls.predictions.transform.dense.weight', 'cls.predictions.bias', 'cls.seq_relationship.weight']\n",
      "- This IS expected if you are initializing BertForSequenceClassification from the checkpoint of a model trained on another task or with another architecture (e.g. initializing a BertForSequenceClassification model from a BertForPreTraining model).\n",
      "- This IS NOT expected if you are initializing BertForSequenceClassification from the checkpoint of a model that you expect to be exactly identical (initializing a BertForSequenceClassification model from a BertForSequenceClassification model).\n",
      "Some weights of BertForSequenceClassification were not initialized from the model checkpoint at bert-base-multilingual-cased and are newly initialized: ['classifier.weight', 'classifier.bias']\n",
      "You should probably TRAIN this model on a down-stream task to be able to use it for predictions and inference.\n"
     ]
    },
    {
     "data": {
      "text/plain": [
       "BertForSequenceClassification(\n",
       "  (bert): BertModel(\n",
       "    (embeddings): BertEmbeddings(\n",
       "      (word_embeddings): Embedding(119547, 768, padding_idx=0)\n",
       "      (position_embeddings): Embedding(512, 768)\n",
       "      (token_type_embeddings): Embedding(2, 768)\n",
       "      (LayerNorm): LayerNorm((768,), eps=1e-12, elementwise_affine=True)\n",
       "      (dropout): Dropout(p=0.1, inplace=False)\n",
       "    )\n",
       "    (encoder): BertEncoder(\n",
       "      (layer): ModuleList(\n",
       "        (0): BertLayer(\n",
       "          (attention): BertAttention(\n",
       "            (self): BertSelfAttention(\n",
       "              (query): Linear(in_features=768, out_features=768, bias=True)\n",
       "              (key): Linear(in_features=768, out_features=768, bias=True)\n",
       "              (value): Linear(in_features=768, out_features=768, bias=True)\n",
       "              (dropout): Dropout(p=0.1, inplace=False)\n",
       "            )\n",
       "            (output): BertSelfOutput(\n",
       "              (dense): Linear(in_features=768, out_features=768, bias=True)\n",
       "              (LayerNorm): LayerNorm((768,), eps=1e-12, elementwise_affine=True)\n",
       "              (dropout): Dropout(p=0.1, inplace=False)\n",
       "            )\n",
       "          )\n",
       "          (intermediate): BertIntermediate(\n",
       "            (dense): Linear(in_features=768, out_features=3072, bias=True)\n",
       "          )\n",
       "          (output): BertOutput(\n",
       "            (dense): Linear(in_features=3072, out_features=768, bias=True)\n",
       "            (LayerNorm): LayerNorm((768,), eps=1e-12, elementwise_affine=True)\n",
       "            (dropout): Dropout(p=0.1, inplace=False)\n",
       "          )\n",
       "        )\n",
       "        (1): BertLayer(\n",
       "          (attention): BertAttention(\n",
       "            (self): BertSelfAttention(\n",
       "              (query): Linear(in_features=768, out_features=768, bias=True)\n",
       "              (key): Linear(in_features=768, out_features=768, bias=True)\n",
       "              (value): Linear(in_features=768, out_features=768, bias=True)\n",
       "              (dropout): Dropout(p=0.1, inplace=False)\n",
       "            )\n",
       "            (output): BertSelfOutput(\n",
       "              (dense): Linear(in_features=768, out_features=768, bias=True)\n",
       "              (LayerNorm): LayerNorm((768,), eps=1e-12, elementwise_affine=True)\n",
       "              (dropout): Dropout(p=0.1, inplace=False)\n",
       "            )\n",
       "          )\n",
       "          (intermediate): BertIntermediate(\n",
       "            (dense): Linear(in_features=768, out_features=3072, bias=True)\n",
       "          )\n",
       "          (output): BertOutput(\n",
       "            (dense): Linear(in_features=3072, out_features=768, bias=True)\n",
       "            (LayerNorm): LayerNorm((768,), eps=1e-12, elementwise_affine=True)\n",
       "            (dropout): Dropout(p=0.1, inplace=False)\n",
       "          )\n",
       "        )\n",
       "        (2): BertLayer(\n",
       "          (attention): BertAttention(\n",
       "            (self): BertSelfAttention(\n",
       "              (query): Linear(in_features=768, out_features=768, bias=True)\n",
       "              (key): Linear(in_features=768, out_features=768, bias=True)\n",
       "              (value): Linear(in_features=768, out_features=768, bias=True)\n",
       "              (dropout): Dropout(p=0.1, inplace=False)\n",
       "            )\n",
       "            (output): BertSelfOutput(\n",
       "              (dense): Linear(in_features=768, out_features=768, bias=True)\n",
       "              (LayerNorm): LayerNorm((768,), eps=1e-12, elementwise_affine=True)\n",
       "              (dropout): Dropout(p=0.1, inplace=False)\n",
       "            )\n",
       "          )\n",
       "          (intermediate): BertIntermediate(\n",
       "            (dense): Linear(in_features=768, out_features=3072, bias=True)\n",
       "          )\n",
       "          (output): BertOutput(\n",
       "            (dense): Linear(in_features=3072, out_features=768, bias=True)\n",
       "            (LayerNorm): LayerNorm((768,), eps=1e-12, elementwise_affine=True)\n",
       "            (dropout): Dropout(p=0.1, inplace=False)\n",
       "          )\n",
       "        )\n",
       "        (3): BertLayer(\n",
       "          (attention): BertAttention(\n",
       "            (self): BertSelfAttention(\n",
       "              (query): Linear(in_features=768, out_features=768, bias=True)\n",
       "              (key): Linear(in_features=768, out_features=768, bias=True)\n",
       "              (value): Linear(in_features=768, out_features=768, bias=True)\n",
       "              (dropout): Dropout(p=0.1, inplace=False)\n",
       "            )\n",
       "            (output): BertSelfOutput(\n",
       "              (dense): Linear(in_features=768, out_features=768, bias=True)\n",
       "              (LayerNorm): LayerNorm((768,), eps=1e-12, elementwise_affine=True)\n",
       "              (dropout): Dropout(p=0.1, inplace=False)\n",
       "            )\n",
       "          )\n",
       "          (intermediate): BertIntermediate(\n",
       "            (dense): Linear(in_features=768, out_features=3072, bias=True)\n",
       "          )\n",
       "          (output): BertOutput(\n",
       "            (dense): Linear(in_features=3072, out_features=768, bias=True)\n",
       "            (LayerNorm): LayerNorm((768,), eps=1e-12, elementwise_affine=True)\n",
       "            (dropout): Dropout(p=0.1, inplace=False)\n",
       "          )\n",
       "        )\n",
       "        (4): BertLayer(\n",
       "          (attention): BertAttention(\n",
       "            (self): BertSelfAttention(\n",
       "              (query): Linear(in_features=768, out_features=768, bias=True)\n",
       "              (key): Linear(in_features=768, out_features=768, bias=True)\n",
       "              (value): Linear(in_features=768, out_features=768, bias=True)\n",
       "              (dropout): Dropout(p=0.1, inplace=False)\n",
       "            )\n",
       "            (output): BertSelfOutput(\n",
       "              (dense): Linear(in_features=768, out_features=768, bias=True)\n",
       "              (LayerNorm): LayerNorm((768,), eps=1e-12, elementwise_affine=True)\n",
       "              (dropout): Dropout(p=0.1, inplace=False)\n",
       "            )\n",
       "          )\n",
       "          (intermediate): BertIntermediate(\n",
       "            (dense): Linear(in_features=768, out_features=3072, bias=True)\n",
       "          )\n",
       "          (output): BertOutput(\n",
       "            (dense): Linear(in_features=3072, out_features=768, bias=True)\n",
       "            (LayerNorm): LayerNorm((768,), eps=1e-12, elementwise_affine=True)\n",
       "            (dropout): Dropout(p=0.1, inplace=False)\n",
       "          )\n",
       "        )\n",
       "        (5): BertLayer(\n",
       "          (attention): BertAttention(\n",
       "            (self): BertSelfAttention(\n",
       "              (query): Linear(in_features=768, out_features=768, bias=True)\n",
       "              (key): Linear(in_features=768, out_features=768, bias=True)\n",
       "              (value): Linear(in_features=768, out_features=768, bias=True)\n",
       "              (dropout): Dropout(p=0.1, inplace=False)\n",
       "            )\n",
       "            (output): BertSelfOutput(\n",
       "              (dense): Linear(in_features=768, out_features=768, bias=True)\n",
       "              (LayerNorm): LayerNorm((768,), eps=1e-12, elementwise_affine=True)\n",
       "              (dropout): Dropout(p=0.1, inplace=False)\n",
       "            )\n",
       "          )\n",
       "          (intermediate): BertIntermediate(\n",
       "            (dense): Linear(in_features=768, out_features=3072, bias=True)\n",
       "          )\n",
       "          (output): BertOutput(\n",
       "            (dense): Linear(in_features=3072, out_features=768, bias=True)\n",
       "            (LayerNorm): LayerNorm((768,), eps=1e-12, elementwise_affine=True)\n",
       "            (dropout): Dropout(p=0.1, inplace=False)\n",
       "          )\n",
       "        )\n",
       "        (6): BertLayer(\n",
       "          (attention): BertAttention(\n",
       "            (self): BertSelfAttention(\n",
       "              (query): Linear(in_features=768, out_features=768, bias=True)\n",
       "              (key): Linear(in_features=768, out_features=768, bias=True)\n",
       "              (value): Linear(in_features=768, out_features=768, bias=True)\n",
       "              (dropout): Dropout(p=0.1, inplace=False)\n",
       "            )\n",
       "            (output): BertSelfOutput(\n",
       "              (dense): Linear(in_features=768, out_features=768, bias=True)\n",
       "              (LayerNorm): LayerNorm((768,), eps=1e-12, elementwise_affine=True)\n",
       "              (dropout): Dropout(p=0.1, inplace=False)\n",
       "            )\n",
       "          )\n",
       "          (intermediate): BertIntermediate(\n",
       "            (dense): Linear(in_features=768, out_features=3072, bias=True)\n",
       "          )\n",
       "          (output): BertOutput(\n",
       "            (dense): Linear(in_features=3072, out_features=768, bias=True)\n",
       "            (LayerNorm): LayerNorm((768,), eps=1e-12, elementwise_affine=True)\n",
       "            (dropout): Dropout(p=0.1, inplace=False)\n",
       "          )\n",
       "        )\n",
       "        (7): BertLayer(\n",
       "          (attention): BertAttention(\n",
       "            (self): BertSelfAttention(\n",
       "              (query): Linear(in_features=768, out_features=768, bias=True)\n",
       "              (key): Linear(in_features=768, out_features=768, bias=True)\n",
       "              (value): Linear(in_features=768, out_features=768, bias=True)\n",
       "              (dropout): Dropout(p=0.1, inplace=False)\n",
       "            )\n",
       "            (output): BertSelfOutput(\n",
       "              (dense): Linear(in_features=768, out_features=768, bias=True)\n",
       "              (LayerNorm): LayerNorm((768,), eps=1e-12, elementwise_affine=True)\n",
       "              (dropout): Dropout(p=0.1, inplace=False)\n",
       "            )\n",
       "          )\n",
       "          (intermediate): BertIntermediate(\n",
       "            (dense): Linear(in_features=768, out_features=3072, bias=True)\n",
       "          )\n",
       "          (output): BertOutput(\n",
       "            (dense): Linear(in_features=3072, out_features=768, bias=True)\n",
       "            (LayerNorm): LayerNorm((768,), eps=1e-12, elementwise_affine=True)\n",
       "            (dropout): Dropout(p=0.1, inplace=False)\n",
       "          )\n",
       "        )\n",
       "        (8): BertLayer(\n",
       "          (attention): BertAttention(\n",
       "            (self): BertSelfAttention(\n",
       "              (query): Linear(in_features=768, out_features=768, bias=True)\n",
       "              (key): Linear(in_features=768, out_features=768, bias=True)\n",
       "              (value): Linear(in_features=768, out_features=768, bias=True)\n",
       "              (dropout): Dropout(p=0.1, inplace=False)\n",
       "            )\n",
       "            (output): BertSelfOutput(\n",
       "              (dense): Linear(in_features=768, out_features=768, bias=True)\n",
       "              (LayerNorm): LayerNorm((768,), eps=1e-12, elementwise_affine=True)\n",
       "              (dropout): Dropout(p=0.1, inplace=False)\n",
       "            )\n",
       "          )\n",
       "          (intermediate): BertIntermediate(\n",
       "            (dense): Linear(in_features=768, out_features=3072, bias=True)\n",
       "          )\n",
       "          (output): BertOutput(\n",
       "            (dense): Linear(in_features=3072, out_features=768, bias=True)\n",
       "            (LayerNorm): LayerNorm((768,), eps=1e-12, elementwise_affine=True)\n",
       "            (dropout): Dropout(p=0.1, inplace=False)\n",
       "          )\n",
       "        )\n",
       "        (9): BertLayer(\n",
       "          (attention): BertAttention(\n",
       "            (self): BertSelfAttention(\n",
       "              (query): Linear(in_features=768, out_features=768, bias=True)\n",
       "              (key): Linear(in_features=768, out_features=768, bias=True)\n",
       "              (value): Linear(in_features=768, out_features=768, bias=True)\n",
       "              (dropout): Dropout(p=0.1, inplace=False)\n",
       "            )\n",
       "            (output): BertSelfOutput(\n",
       "              (dense): Linear(in_features=768, out_features=768, bias=True)\n",
       "              (LayerNorm): LayerNorm((768,), eps=1e-12, elementwise_affine=True)\n",
       "              (dropout): Dropout(p=0.1, inplace=False)\n",
       "            )\n",
       "          )\n",
       "          (intermediate): BertIntermediate(\n",
       "            (dense): Linear(in_features=768, out_features=3072, bias=True)\n",
       "          )\n",
       "          (output): BertOutput(\n",
       "            (dense): Linear(in_features=3072, out_features=768, bias=True)\n",
       "            (LayerNorm): LayerNorm((768,), eps=1e-12, elementwise_affine=True)\n",
       "            (dropout): Dropout(p=0.1, inplace=False)\n",
       "          )\n",
       "        )\n",
       "        (10): BertLayer(\n",
       "          (attention): BertAttention(\n",
       "            (self): BertSelfAttention(\n",
       "              (query): Linear(in_features=768, out_features=768, bias=True)\n",
       "              (key): Linear(in_features=768, out_features=768, bias=True)\n",
       "              (value): Linear(in_features=768, out_features=768, bias=True)\n",
       "              (dropout): Dropout(p=0.1, inplace=False)\n",
       "            )\n",
       "            (output): BertSelfOutput(\n",
       "              (dense): Linear(in_features=768, out_features=768, bias=True)\n",
       "              (LayerNorm): LayerNorm((768,), eps=1e-12, elementwise_affine=True)\n",
       "              (dropout): Dropout(p=0.1, inplace=False)\n",
       "            )\n",
       "          )\n",
       "          (intermediate): BertIntermediate(\n",
       "            (dense): Linear(in_features=768, out_features=3072, bias=True)\n",
       "          )\n",
       "          (output): BertOutput(\n",
       "            (dense): Linear(in_features=3072, out_features=768, bias=True)\n",
       "            (LayerNorm): LayerNorm((768,), eps=1e-12, elementwise_affine=True)\n",
       "            (dropout): Dropout(p=0.1, inplace=False)\n",
       "          )\n",
       "        )\n",
       "        (11): BertLayer(\n",
       "          (attention): BertAttention(\n",
       "            (self): BertSelfAttention(\n",
       "              (query): Linear(in_features=768, out_features=768, bias=True)\n",
       "              (key): Linear(in_features=768, out_features=768, bias=True)\n",
       "              (value): Linear(in_features=768, out_features=768, bias=True)\n",
       "              (dropout): Dropout(p=0.1, inplace=False)\n",
       "            )\n",
       "            (output): BertSelfOutput(\n",
       "              (dense): Linear(in_features=768, out_features=768, bias=True)\n",
       "              (LayerNorm): LayerNorm((768,), eps=1e-12, elementwise_affine=True)\n",
       "              (dropout): Dropout(p=0.1, inplace=False)\n",
       "            )\n",
       "          )\n",
       "          (intermediate): BertIntermediate(\n",
       "            (dense): Linear(in_features=768, out_features=3072, bias=True)\n",
       "          )\n",
       "          (output): BertOutput(\n",
       "            (dense): Linear(in_features=3072, out_features=768, bias=True)\n",
       "            (LayerNorm): LayerNorm((768,), eps=1e-12, elementwise_affine=True)\n",
       "            (dropout): Dropout(p=0.1, inplace=False)\n",
       "          )\n",
       "        )\n",
       "      )\n",
       "    )\n",
       "    (pooler): BertPooler(\n",
       "      (dense): Linear(in_features=768, out_features=768, bias=True)\n",
       "      (activation): Tanh()\n",
       "    )\n",
       "  )\n",
       "  (dropout): Dropout(p=0.1, inplace=False)\n",
       "  (classifier): Linear(in_features=768, out_features=6, bias=True)\n",
       ")"
      ]
     },
     "execution_count": 130,
     "metadata": {},
     "output_type": "execute_result"
    }
   ],
   "source": [
    "device = torch.device('cpu')\n",
    "\n",
    "tokenizer = BertTokenizer.from_pretrained('bert-base-multilingual-cased')\n",
    "model = BertForSequenceClassification.from_pretrained('bert-base-multilingual-cased', num_labels=6)\n",
    "model.to(device)"
   ]
  },
  {
   "cell_type": "code",
   "execution_count": 121,
   "metadata": {},
   "outputs": [
    {
     "data": {
      "text/html": [
       "<div>\n",
       "<style scoped>\n",
       "    .dataframe tbody tr th:only-of-type {\n",
       "        vertical-align: middle;\n",
       "    }\n",
       "\n",
       "    .dataframe tbody tr th {\n",
       "        vertical-align: top;\n",
       "    }\n",
       "\n",
       "    .dataframe thead th {\n",
       "        text-align: right;\n",
       "    }\n",
       "</style>\n",
       "<table border=\"1\" class=\"dataframe\">\n",
       "  <thead>\n",
       "    <tr style=\"text-align: right;\">\n",
       "      <th></th>\n",
       "      <th>consumer-message</th>\n",
       "      <th>product</th>\n",
       "      <th>date-received</th>\n",
       "    </tr>\n",
       "  </thead>\n",
       "  <tbody>\n",
       "    <tr>\n",
       "      <th>135253</th>\n",
       "      <td>a credit card issued by chase bank stated cash...</td>\n",
       "      <td>1</td>\n",
       "      <td>2016-10-03</td>\n",
       "    </tr>\n",
       "    <tr>\n",
       "      <th>131195</th>\n",
       "      <td>i went on a cruise with a friends family we ap...</td>\n",
       "      <td>1</td>\n",
       "      <td>2016-10-03</td>\n",
       "    </tr>\n",
       "    <tr>\n",
       "      <th>68688</th>\n",
       "      <td>after years of perfect credit with citibank th...</td>\n",
       "      <td>1</td>\n",
       "      <td>2016-10-03</td>\n",
       "    </tr>\n",
       "    <tr>\n",
       "      <th>38755</th>\n",
       "      <td>discover closed my credit card account for no ...</td>\n",
       "      <td>1</td>\n",
       "      <td>2016-10-03</td>\n",
       "    </tr>\n",
       "    <tr>\n",
       "      <th>3410</th>\n",
       "      <td>citibank recently closed xxxx credit card acco...</td>\n",
       "      <td>1</td>\n",
       "      <td>2016-10-03</td>\n",
       "    </tr>\n",
       "    <tr>\n",
       "      <th>...</th>\n",
       "      <td>...</td>\n",
       "      <td>...</td>\n",
       "      <td>...</td>\n",
       "    </tr>\n",
       "    <tr>\n",
       "      <th>197183</th>\n",
       "      <td>tried reaching out to experian multiple times ...</td>\n",
       "      <td>3</td>\n",
       "      <td>2017-11-03</td>\n",
       "    </tr>\n",
       "    <tr>\n",
       "      <th>196991</th>\n",
       "      <td>my name is xxxx xxxx i have been receiving ale...</td>\n",
       "      <td>3</td>\n",
       "      <td>2017-11-03</td>\n",
       "    </tr>\n",
       "    <tr>\n",
       "      <th>197196</th>\n",
       "      <td>i recently submitted a request to xxxx as well...</td>\n",
       "      <td>3</td>\n",
       "      <td>2017-11-03</td>\n",
       "    </tr>\n",
       "    <tr>\n",
       "      <th>196903</th>\n",
       "      <td>i am currently refinancing my home and consoli...</td>\n",
       "      <td>3</td>\n",
       "      <td>2017-11-03</td>\n",
       "    </tr>\n",
       "    <tr>\n",
       "      <th>197068</th>\n",
       "      <td>i ordered my credit report from chex systems a...</td>\n",
       "      <td>3</td>\n",
       "      <td>2017-11-03</td>\n",
       "    </tr>\n",
       "  </tbody>\n",
       "</table>\n",
       "<p>49350 rows × 3 columns</p>\n",
       "</div>"
      ],
      "text/plain": [
       "                                         consumer-message  product  \\\n",
       "135253  a credit card issued by chase bank stated cash...        1   \n",
       "131195  i went on a cruise with a friends family we ap...        1   \n",
       "68688   after years of perfect credit with citibank th...        1   \n",
       "38755   discover closed my credit card account for no ...        1   \n",
       "3410    citibank recently closed xxxx credit card acco...        1   \n",
       "...                                                   ...      ...   \n",
       "197183  tried reaching out to experian multiple times ...        3   \n",
       "196991  my name is xxxx xxxx i have been receiving ale...        3   \n",
       "197196  i recently submitted a request to xxxx as well...        3   \n",
       "196903  i am currently refinancing my home and consoli...        3   \n",
       "197068  i ordered my credit report from chex systems a...        3   \n",
       "\n",
       "       date-received  \n",
       "135253    2016-10-03  \n",
       "131195    2016-10-03  \n",
       "68688     2016-10-03  \n",
       "38755     2016-10-03  \n",
       "3410      2016-10-03  \n",
       "...              ...  \n",
       "197183    2017-11-03  \n",
       "196991    2017-11-03  \n",
       "197196    2017-11-03  \n",
       "196903    2017-11-03  \n",
       "197068    2017-11-03  \n",
       "\n",
       "[49350 rows x 3 columns]"
      ]
     },
     "execution_count": 121,
     "metadata": {},
     "output_type": "execute_result"
    }
   ],
   "source": [
    "data_test"
   ]
  },
  {
   "cell_type": "markdown",
   "metadata": {},
   "source": [
    "Aqui eu passo os textos para o tokenizer do Bert, trunco o tamanho para 64 e crio as máscaras de atenção, após isto passo no DataLoader"
   ]
  },
  {
   "cell_type": "code",
   "execution_count": 160,
   "metadata": {},
   "outputs": [],
   "source": [
    "train_input_ids = [tokenizer.encode(text, add_special_tokens=True) for text in data_train['consumer-message']]\n",
    "test_input_ids = [tokenizer.encode(text, add_special_tokens=True) for text in data_test['consumer-message']]"
   ]
  },
  {
   "cell_type": "code",
   "execution_count": 161,
   "metadata": {},
   "outputs": [],
   "source": [
    "max_length = 64\n",
    "train_input_ids_ = torch.tensor([i[:max_length] + [0] * (max_length - len(i[:max_length])) for i in train_input_ids])\n",
    "test_input_ids_ = torch.tensor([i[:max_length] + [0] * (max_length - len(i[:max_length])) for i in test_input_ids])"
   ]
  },
  {
   "cell_type": "code",
   "execution_count": 162,
   "metadata": {},
   "outputs": [],
   "source": [
    "train_attention_masks = torch.where(train_input_ids_ != 0, torch.tensor(1), torch.tensor(0))\n",
    "test_attention_masks = torch.where(test_input_ids_ != 0, torch.tensor(1), torch.tensor(0))"
   ]
  },
  {
   "cell_type": "code",
   "execution_count": 163,
   "metadata": {},
   "outputs": [],
   "source": [
    "train_labels = torch.tensor(data_train['product'].values)\n",
    "test_labels = torch.tensor(data_test['product'].values)"
   ]
  },
  {
   "cell_type": "markdown",
   "metadata": {},
   "source": [
    "Não estou utilizando todos os dados pois para o fine-tunning da Bert, estava demorando muitas horas e então limitei para 10000 instâncias para o treino e teste"
   ]
  },
  {
   "cell_type": "code",
   "execution_count": 166,
   "metadata": {},
   "outputs": [],
   "source": [
    "batch_size = 32\n",
    "train_dataset = TensorDataset(train_input_ids_, train_attention_masks, train_labels)\n",
    "train_sampler = RandomSampler(train_dataset, num_samples=10000)\n",
    "train_dataloader = DataLoader(train_dataset, sampler=train_sampler, batch_size=batch_size)\n",
    "\n",
    "test_dataset = TensorDataset(test_input_ids_, test_attention_masks, test_labels)\n",
    "test_sampler = RandomSampler(test_dataset, num_samples=10000)\n",
    "test_dataloader = DataLoader(test_dataset, sampler=test_sampler, batch_size=batch_size)"
   ]
  },
  {
   "cell_type": "markdown",
   "metadata": {},
   "source": [
    "Treinando com uma época, o código é o mesmo praticamente, o que muda é a nova adição das máscaras"
   ]
  },
  {
   "cell_type": "code",
   "execution_count": 167,
   "metadata": {},
   "outputs": [
    {
     "name": "stderr",
     "output_type": "stream",
     "text": [
      "Epoch 1: 100%|███████████████████████████████████████████████████████████████████████| 313/313 [23:44<00:00,  4.55s/it]"
     ]
    },
    {
     "name": "stdout",
     "output_type": "stream",
     "text": [
      "Epoch: 1, Training Loss: 0.792\n"
     ]
    },
    {
     "name": "stderr",
     "output_type": "stream",
     "text": [
      "\n"
     ]
    }
   ],
   "source": [
    "from tqdm import tqdm\n",
    "\n",
    "epochs = 1\n",
    "train_loss_history = []\n",
    "\n",
    "for epoch in range(epochs):\n",
    "    model.train()\n",
    "    total_loss = 0\n",
    "    \n",
    "    progress_bar = tqdm(train_dataloader, desc=f'Epoch {epoch+1}')\n",
    "    \n",
    "    for batch in progress_bar:\n",
    "        batch = tuple(t.to(device) for t in batch)\n",
    "        \n",
    "        inputs = {'input_ids': batch[0], 'attention_mask': batch[1], 'labels': batch[2].long()}\n",
    "        \n",
    "        optimizer.zero_grad()\n",
    "        \n",
    "        outputs = model(**inputs)\n",
    "        loss = outputs[0]\n",
    "        total_loss += loss.item()\n",
    "        \n",
    "        loss.backward()\n",
    "        \n",
    "        torch.nn.utils.clip_grad_norm_(model.parameters(), 1.0)\n",
    "        \n",
    "        optimizer.step()\n",
    "        \n",
    "        progress_bar.update(1)\n",
    "    \n",
    "    avg_loss = total_loss / len(train_dataloader)\n",
    "    train_loss_history.append(avg_loss)\n",
    "    \n",
    "    print(f'Epoch: {epoch + 1}, Training Loss: {avg_loss:.3f}')\n"
   ]
  },
  {
   "cell_type": "markdown",
   "metadata": {},
   "source": [
    "Aqui o código para termos as predições no conjunto de teste"
   ]
  },
  {
   "cell_type": "code",
   "execution_count": 171,
   "metadata": {},
   "outputs": [],
   "source": [
    "def evaluate_(model, dataloader):\n",
    "    model.eval()\n",
    "    y_pred = []\n",
    "    y_true = []\n",
    "    total_correct = 0\n",
    "    total_samples = 0\n",
    "    \n",
    "    with torch.no_grad():\n",
    "        for batch in dataloader:\n",
    "            \n",
    "            batch = tuple(t.to(device) for t in batch)\n",
    "            inputs = {'input_ids': batch[0], 'attention_mask': batch[1], 'labels': batch[2].long()}\n",
    "            \n",
    "            outputs = model(**inputs)\n",
    "            logits = outputs.logits\n",
    "            \n",
    "            _, predicted = torch.max(logits, dim=1)\n",
    "            \n",
    "            y_pred.extend(predicted.cpu().numpy())\n",
    "            y_true.extend(batch[2].cpu().numpy())\n",
    "            \n",
    "            total_correct += (predicted == batch[2]).sum().item()\n",
    "            total_samples += batch[2].size(0)\n",
    "            \n",
    "    accuracy = total_correct / total_samples\n",
    "    cm = confusion_matrix(y_true, y_pred)\n",
    "    report = classification_report(y_true, y_pred)\n",
    "    b_acc = balanced_accuracy_score(y_true, y_pred)\n",
    "    \n",
    "    return b_acc, accuracy, cm, report\n"
   ]
  },
  {
   "cell_type": "code",
   "execution_count": 172,
   "metadata": {},
   "outputs": [],
   "source": [
    "balanced_acc, accuracy, cm, report = evaluate_(model, test_dataloader)"
   ]
  },
  {
   "cell_type": "markdown",
   "metadata": {},
   "source": [
    "Finalmente tive uma melhora significativa na acc e na distribuição das classificações, acredito que colocando mais épocas eu teria uma melhora, gerando mais intâncias para a classe 2 e 3 também teria uma melhora e claro, colocar mais de 10000 amostras para o treinamento"
   ]
  },
  {
   "cell_type": "markdown",
   "metadata": {},
   "source": [
    "Eu também poderia ter limpado os textos antes de passar para o tokenizer do bert, retirado as stopwords também"
   ]
  },
  {
   "cell_type": "code",
   "execution_count": 173,
   "metadata": {},
   "outputs": [
    {
     "name": "stdout",
     "output_type": "stream",
     "text": [
      "Acurácia: 0.757\n",
      "\n",
      "Balanced Acc: 0.675\n",
      "\n",
      "Matriz de confusão:\n",
      "[[ 707   54   21    1   43   70]\n",
      " [ 139  761   93   14  116   26]\n",
      " [  19   42 1621   23  179   43]\n",
      " [   5   19  676   23   68   42]\n",
      " [  43   63  284   27 2394  120]\n",
      " [  51   20   55    5   66 2067]]\n",
      "Relatório de classificação:\n",
      "              precision    recall  f1-score   support\n",
      "\n",
      "           0       0.73      0.79      0.76       896\n",
      "           1       0.79      0.66      0.72      1149\n",
      "           2       0.59      0.84      0.69      1927\n",
      "           3       0.25      0.03      0.05       833\n",
      "           4       0.84      0.82      0.83      2931\n",
      "           5       0.87      0.91      0.89      2264\n",
      "\n",
      "    accuracy                           0.76     10000\n",
      "   macro avg       0.68      0.67      0.66     10000\n",
      "weighted avg       0.73      0.76      0.73     10000\n",
      "\n"
     ]
    }
   ],
   "source": [
    "print(f'Acurácia: {accuracy:.3f}')\n",
    "print(f'\\nBalanced Acc: {balanced_acc:.3f}')\n",
    "print('')\n",
    "print('Matriz de confusão:\\n')\n",
    "print(cm)\n",
    "print('Relatório de classificação:\\n')\n",
    "print(report)"
   ]
  },
  {
   "cell_type": "markdown",
   "metadata": {},
   "source": [
    "Vou upar no drive essa pasta para vocês"
   ]
  },
  {
   "cell_type": "code",
   "execution_count": 174,
   "metadata": {},
   "outputs": [
    {
     "data": {
      "text/plain": [
       "('model\\\\tokenizer_config.json',\n",
       " 'model\\\\special_tokens_map.json',\n",
       " 'model\\\\vocab.txt',\n",
       " 'model\\\\added_tokens.json')"
      ]
     },
     "execution_count": 174,
     "metadata": {},
     "output_type": "execute_result"
    }
   ],
   "source": [
    "model.save_pretrained('model')\n",
    "tokenizer.save_pretrained('model')"
   ]
  }
 ],
 "metadata": {
  "colab": {
   "provenance": []
  },
  "kernelspec": {
   "display_name": "Python 3 (ipykernel)",
   "language": "python",
   "name": "python3"
  },
  "language_info": {
   "codemirror_mode": {
    "name": "ipython",
    "version": 3
   },
   "file_extension": ".py",
   "mimetype": "text/x-python",
   "name": "python",
   "nbconvert_exporter": "python",
   "pygments_lexer": "ipython3",
   "version": "3.9.7"
  }
 },
 "nbformat": 4,
 "nbformat_minor": 1
}
